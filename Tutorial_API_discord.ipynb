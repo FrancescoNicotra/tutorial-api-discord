{
 "cells": [
  {
   "cell_type": "markdown",
   "id": "6d548016",
   "metadata": {
    "slideshow": {
     "slide_type": "slide"
    }
   },
   "source": [
    "# Tutorial su API di Discord"
   ]
  },
  {
   "cell_type": "markdown",
   "id": "ebc6b200",
   "metadata": {
    "slideshow": {
     "slide_type": "subslide"
    }
   },
   "source": [
    "#### Nome: Francesco Nicotra\n",
    "#### Matricola: 1000001741\n",
    "#### Corso: Social Media Data Analysis\n",
    "#### Docente: Francesco Ragusa\n",
    "#### Anno accademico: 2023/2024"
   ]
  },
  {
   "cell_type": "markdown",
   "id": "29e12f95",
   "metadata": {
    "slideshow": {
     "slide_type": "slide"
    }
   },
   "source": [
    "## Sommario\n",
    "1. **Introduzione** <br/>\n",
    "    <span style=\"padding-left:15px;\">1.1 Presentazione Discord</span><br/>\n",
    "    <span style=\"padding-left:15px;\">1.2 Presentazione canale</span><br/>\n",
    "2. **Discord for Developers**<br/>\n",
    "    <span style=\"padding-left:15px;\">2.1 Richiesta API</span><br/>\n",
    "3. **Esempio richiesta (da vedere)**<br/>\n",
    "    <span style=\"padding-left:15px;\">3.1 Da aggiungere</span><br/>\n",
    "    <span style=\"padding-left:15px;\">3.2 Wrapper</span><br/>\n"
   ]
  },
  {
   "cell_type": "markdown",
   "id": "7a385184",
   "metadata": {
    "slideshow": {
     "slide_type": "subslide"
    }
   },
   "source": [
    "4. **Analisi dei dati**<br/>\n",
    "    <span style=\"padding-left:15px;\">4.1 Analisi </span><br/>\n",
    "    <span style=\"padding-left:15px;\">4.2 Analisi </span><br/>\n",
    "    <span style=\"padding-left:15px;\">4.3 Relazione </span><br/>\n",
    "5. **Conclusioni**"
   ]
  },
  {
   "cell_type": "markdown",
   "id": "cf689ed1",
   "metadata": {
    "slideshow": {
     "slide_type": "slide"
    }
   },
   "source": [
    "## Introduzione\n",
    "Discord è nato per risolvere un grosso problema: come comunicare con gli amici in giro per il mondo mentre si gioca ai giochi online. <br/>\n",
    "Nel 2015 è nasce e fin da subito ha reso più facile comunicare genuinamente con gli amici, oltre la semplice chiacchierata. Gli amici rimanevano in contatto con le loro varie community. Discord rendeva più facile partecipare alle discussioni, alternando liberamente lo scrivere al parlare a voce, con o senza video. La tecnologia era complessa, ma l'obbiettivo era semplice: rendere Discord una casa invitante e confortevole per amici e comunità.\n",
    "<br/><br/>\n",
    "È possibile fare molte cose su discord, tipo: \n",
    "<ul>\n",
    "    <li> Chattare/parlare con amici</li>\n",
    "    <li> Entrare in un server dedicato (es. università)</li>\n",
    "    <li> Fare videochiamate di gruppo con la possibilità di condividere lo schermo</li>\n",
    "    \n",
    "    "
   ]
  },
  {
   "cell_type": "markdown",
   "id": "35479c48",
   "metadata": {
    "slideshow": {
     "slide_type": "subslide"
    }
   },
   "source": [
    "\n",
    "   <ul> <li>Avere dei sottocanali personalizzati all'interno di ogni server, prendendo l'esempio din un server dedicato all'università si possono avere:</li>\n",
    "        <li> Canale solo chat dedicato per ogni singola materia</li>\n",
    "        <li> Canale dove è possibile effettuare solo chiamate e non videochiamate</li>\n",
    "        <li> Canale dove chi non è autorizzato non può neanche entrare, ad esempio il canale dedicato agli amministratori del server</li>\n",
    "        <li> Canale dove è possibile solo leggere il contenuto senza poter rispondere o modificare ciò che si trova scritto al suo interno, ad esempio il canale delle regole del server</li><ul>"
   ]
  },
  {
   "cell_type": "markdown",
   "id": "e41bdd71",
   "metadata": {
    "slideshow": {
     "slide_type": "subslide"
    }
   },
   "source": [
    "## Presentazione sito\n",
    "La home del sito mostra varie opzioni, dal download al carrers, oltre al bottone per utilizzare discord nel browser e al bottone per scaricare discord sulla propria macchina.\n",
    "<center>\n",
    "    <img src=\"./immagini/homepage.png\" alt=\"home\" width='1024px' height='780px'/>\n",
    "</center>"
   ]
  },
  {
   "cell_type": "markdown",
   "id": "81a937c5",
   "metadata": {
    "slideshow": {
     "slide_type": "subslide"
    }
   },
   "source": [
    "\n",
    "Scorrendo verso il basso vengono mostrate alcune funzionalità di discord, ad esempio:\n",
    "<center>\n",
    "    <img src=\"./immagini/funzionalita.png\" alt=\"funzionalità\"/>\n",
    "</center>"
   ]
  },
  {
   "cell_type": "markdown",
   "id": "a7270dc5",
   "metadata": {
    "slideshow": {
     "slide_type": "subslide"
    }
   },
   "source": [
    "## Download discord\n",
    "Una volta cliccato sul bottone per il download, nel mio caso per mac, verrà scaricata l'applicazione di discord.\n",
    "<center>\n",
    "    <img src=\"./immagini/download.png\" alt=\"download\" width='1024px' height='780px'/>\n",
    "    </center>\n",
    "   "
   ]
  },
  {
   "cell_type": "markdown",
   "id": "a6e47a66",
   "metadata": {
    "slideshow": {
     "slide_type": "subslide"
    }
   },
   "source": [
    "## Registrazione su discord\n",
    "Una volta scaricata l'applicazione e avviata verrà visualizzata una schermata dove sarà possibile registrarsi:\n",
    "<center>\n",
    "    <img src=\"./immagini/registrazione.png\" alt=\"registrazione\" width='1024px' height='780px'/>\n",
    "<center/>"
   ]
  },
  {
   "cell_type": "markdown",
   "id": "d328028d",
   "metadata": {
    "slideshow": {
     "slide_type": "subslide"
    }
   },
   "source": [
    "Bisogna confermare l'email ed una volta completato il processo di registrazione si verrà portati alla schermata principale di discord, dove è possibile personalizzare la propria applicazione, unirsi ai canali, mandare richieste di amicizia ad altri utenti.\n",
    "<center> \n",
    "    <img src=\"./immagini/applicazione.png\" alt=\"applicazione\" width='1024px' height='780px'/>\n",
    "    <center/>"
   ]
  },
  {
   "cell_type": "markdown",
   "id": "00018fdc",
   "metadata": {
    "slideshow": {
     "slide_type": "slide"
    }
   },
   "source": [
    "## Discord for developers"
   ]
  },
  {
   "cell_type": "markdown",
   "id": "1b22790b",
   "metadata": {
    "slideshow": {
     "slide_type": "subslide"
    }
   },
   "source": [
    "### Operazioni preliminari\n",
    "Bisogna creare un server, che verrà utilizzato per testare le API. <br> Quindi apriamo l'app di Discord scaricata in precedenza e creaiamo il nostro server come mostrato nelle successive slide."
   ]
  },
  {
   "cell_type": "markdown",
   "id": "41e262d5",
   "metadata": {
    "slideshow": {
     "slide_type": "subslide"
    }
   },
   "source": [
    "Cliccare sul bottone con il simbolo \"+\"<center><img src=\"./immagini/aggiuntaServer.png\" alt=\"aggiungi server\" width='1024px' height='780px'/></center>"
   ]
  },
  {
   "cell_type": "markdown",
   "id": "c8e0642f",
   "metadata": {
    "slideshow": {
     "slide_type": "subslide"
    }
   },
   "source": [
    "\n",
    "<center><img src=\"./immagini/creazioneServer.png\" alt=\"creazione server\" width='1024px' height='780px'/></center>"
   ]
  },
  {
   "cell_type": "markdown",
   "id": "f2a8fae8",
   "metadata": {
    "slideshow": {
     "slide_type": "subslide"
    }
   },
   "source": [
    "In questa finestra si può scegliere un template creato da discord, oppure crearne uno personalizzato. In questo tutorial ne creeremo uno personalizzato, quindi clicchiamo sul bottone, <b>crea personalizzato</b>, ci verrà chiesto se è destinato ad un uso <b>\"per me e i miei amici\"</b> oppure <b>\"per un club o una comunity\"</b>, qui cliccheremo sul primo bottone. Arrivati a questo punto daremo un nome a scelta al nostro server e il gioco è fatto. "
   ]
  },
  {
   "cell_type": "markdown",
   "id": "b80f1dfe",
   "metadata": {
    "slideshow": {
     "slide_type": "subslide"
    }
   },
   "source": [
    "Discord mette a disposizione delle API con diverse funzionalità, ad esempio:\n",
    "<ul>\n",
    "    <li>Interagire con gli utenti aggiungendo comandi per creare esperienze coinvolgenti.</li>\n",
    "    <li>Personalizzare il server di cui si hanno le autorizzazioni necessarie</li>\n",
    "    <li>Collegare e aggiornare i metadati per migliorare discord per gli utenti</li>\n",
    "</ul><br>\n",
    "Per poter utilizzare le API, però, bisogna nuovamente registrarsi stavolta alla piattaforma per sviluppatori. Basta seguire il seguente link <a href=\"https://discord.com/developers/docs/intro\"> Discord for Developers</a>"
   ]
  },
  {
   "cell_type": "markdown",
   "id": "b1898038",
   "metadata": {
    "slideshow": {
     "slide_type": "subslide"
    }
   },
   "source": [
    "Ci si ritroverà in una pagina del genere:\n",
    "<center><img src=\"./immagini/discordDev.png\" alt=\"developers\" width='1024px' height='780px'/></center>"
   ]
  },
  {
   "cell_type": "markdown",
   "id": "9e84c521",
   "metadata": {
    "slideshow": {
     "slide_type": "subslide"
    }
   },
   "source": [
    "Questa è una pagina di introduzione alle API di discord, per poter creare la nostra applicazione e quindi utilizzare le API bisogna scendere fino alla fine della pagina e bisogna cliccare sul link evidenziato:\n",
    "<center>\n",
    "<img src='./immagini/discordApp.png' alt='app' width='1024px' height='780px' /></center>"
   ]
  },
  {
   "cell_type": "markdown",
   "id": "cc2f3d48",
   "metadata": {
    "slideshow": {
     "slide_type": "subslide"
    }
   },
   "source": [
    "Verrà richiesto nuovamente di effettuare l'accesso, una volta effettuato si presenterà questa schermata:\n",
    "<center><img src='./immagini/schermataApp.png' alt='schermataApp' width='1024px' height='780px'/></center>"
   ]
  },
  {
   "cell_type": "markdown",
   "id": "714edb5e",
   "metadata": {
    "slideshow": {
     "slide_type": "subslide"
    }
   },
   "source": [
    "Bisogna cliccare sul bottone \"New Application\" in alto a destra, e si aprirà un modale dove si dovrà inserire il nome dell'applicazione appunto. <br>\n",
    "Una volta inserito il nome nella sezione \"My Applications\" comparirà l'applicazione con il nome scelto. Se ci si clicca si passerà alla schermata dell'applicazione, che apparirà come segue:"
   ]
  },
  {
   "cell_type": "markdown",
   "id": "c79b9d1b",
   "metadata": {
    "slideshow": {
     "slide_type": "subslide"
    }
   },
   "source": [
    "<center><img src='./immagini/appInfo.png' alt='schermata info app' width='1024px' height='780px'/></center>"
   ]
  },
  {
   "cell_type": "markdown",
   "id": "1345760a",
   "metadata": {
    "slideshow": {
     "slide_type": "subslide"
    }
   },
   "source": [
    "### Fai attenzione a non mostrare l'APPLICATION ID e la PUBLIC KEY!"
   ]
  },
  {
   "cell_type": "markdown",
   "id": "570ac604",
   "metadata": {
    "slideshow": {
     "slide_type": "slide"
    }
   },
   "source": [
    "## Primi passi"
   ]
  },
  {
   "cell_type": "markdown",
   "id": "1e5448c6",
   "metadata": {
    "slideshow": {
     "slide_type": "subslide"
    }
   },
   "source": [
    "Clicca su OAuth2 per passare alla schermata per le autorizzazioni all'applicazione<center><img src=\"./immagini/OAuth2Click.png\" alt='scherma click OAuth2' width='1024px' height='780px'/></center>"
   ]
  },
  {
   "cell_type": "markdown",
   "id": "447a2297",
   "metadata": {
    "slideshow": {
     "slide_type": "subslide"
    }
   },
   "source": [
    "Una volta cliccato il bottone verrà mostrata una pagina dove verrà mostrato il <b>CLIENT ID</b>. <br> Questa sarà la pagina principale di <b>OAuth2</b>, come si può notare la sezione è divisa in due pagine:\n",
    "<ul> <li> General</li><li>URL Generator</li></ul><br>\n",
    "quella che interessa a noi è la seconda, adesso bisogna cliccare su <b>URL Generator</b>"
   ]
  },
  {
   "cell_type": "markdown",
   "id": "4506b64c",
   "metadata": {
    "slideshow": {
     "slide_type": "subslide"
    }
   },
   "source": [
    "Selezionare dalla tabella Bot e in quanto amministratori, quindi il bot deve poter eseguire tutte le operazioni, gli daremo i permessi da amministratore. Ovviamente questa scelta cambia in base alle necessità.\n",
    "<center><img src=\"./immagini/OAuthPage.png\" alt='scherm click OAuth2' width='1024px' height='780px'/></center>"
   ]
  },
  {
   "cell_type": "markdown",
   "id": "618e583b",
   "metadata": {
    "slideshow": {
     "slide_type": "subslide"
    }
   },
   "source": [
    "Scrollando verso il basso una volta selezionato lo scopo e i permessi troveremo un link\n",
    "<center><img src=\"./immagini/urlBot.png\" alt='scherm click OAuth2' width='1024px' height='780px'/></center>"
   ]
  },
  {
   "cell_type": "markdown",
   "id": "f66091f5",
   "metadata": {
    "slideshow": {
     "slide_type": "subslide"
    }
   },
   "source": [
    "Basta copiare questo link e incollarlo nel nostro browser in una finestra\n",
    "<center><img src=\"./immagini/addBot.png\" alt='scherm click OAuth2' width='1024px' height='780px'/></center>"
   ]
  },
  {
   "cell_type": "markdown",
   "id": "721f9f3d",
   "metadata": {
    "slideshow": {
     "slide_type": "subslide"
    }
   },
   "source": [
    "Una volta in questa pagina bisogna scegliere il server dal menù a tendina con la voce <b>\"AGGIUNGI AL SERVER\"</b>, poi cliccare sul tasto continua e seguire la procedera seguendo le indicazioni. <br> Una volta terminata vi ritroverete all'interno del vostro server con il bot al suo interno."
   ]
  },
  {
   "cell_type": "code",
   "execution_count": 2,
   "id": "facccf1a",
   "metadata": {},
   "outputs": [],
   "source": [
    "import requests\n",
    "\n",
    "\n",
    "url = \"https://discord.com/api/v10/applications/<application id>/commands/<command id>\"\n",
    "\n",
    "# This is an example CHAT_INPUT or Slash Command, with a type of 1\n",
    "json = {\n",
    "    \"name\": \"provolone\",\n",
    "    \"type\": 1,\n",
    "    \"description\": \"prova per capire a cosa serve il tipo 3\",\n",
    "    \"options\": [\n",
    "        {\n",
    "            \"name\": \"animale\",\n",
    "            \"description\": \"The type of animal\",\n",
    "            \"type\": 3,\n",
    "            \"required\": True,\n",
    "            \"choices\": [\n",
    "                {\n",
    "                    \"name\": \"Dog\",\n",
    "                    \"value\": \"animal_dog\"\n",
    "                },\n",
    "                {\n",
    "                    \"name\": \"Cat\",\n",
    "                    \"value\": \"animal_cat\"\n",
    "                },\n",
    "                {\n",
    "                    \"name\": \"Penguin\",\n",
    "                    \"value\": \"animal_penguin\"\n",
    "                }\n",
    "            ]\n",
    "        },\n",
    "        {\n",
    "            \"name\": \"provolone\",\n",
    "            \"description\": \"descrizione della seconda opzione\",\n",
    "            \"type\": 5,\n",
    "            \"required\": False\n",
    "        }\n",
    "    ]\n",
    "}\n",
    "\n",
    "# For authorization, you can use either your bot token\n",
    "headers = {\n",
    "    \"Authorization\": \"Bot <key>\"\n",
    "}\n",
    "\n",
    "\n",
    "r = requests.post(url, headers=headers, json=json)"
   ]
  },
  {
   "cell_type": "markdown",
   "id": "46d9f964",
   "metadata": {
    "slideshow": {
     "slide_type": "slide"
    }
   },
   "source": [
    "## Operazioni dataset discord"
   ]
  },
  {
   "cell_type": "markdown",
   "id": "db43c92f",
   "metadata": {
    "slideshow": {
     "slide_type": "subslide"
    }
   },
   "source": [
    "Dato che nel server discord appena creato non si hanno abbastanza dati su cui lavorare scaricheremo un dataset dove al suo interno saranno presenti chat di altri server sotto forma di file testo. <br>\n",
    "Per scaricare il dataset basta seguire il link: <a href=\"https://www.kaggle.com/datasets/jef1056/discord-data\">dataset</a>"
   ]
  },
  {
   "cell_type": "markdown",
   "id": "dee0e504",
   "metadata": {
    "slideshow": {
     "slide_type": "slide"
    }
   },
   "source": [
    "### Com'è formato il dataset?"
   ]
  },
  {
   "cell_type": "markdown",
   "id": "e790b400",
   "metadata": {
    "slideshow": {
     "slide_type": "subslide"
    }
   },
   "source": [
    "Il dataset è formato da diverse cartelle dove al suo interno troveremo tre versioni V1, V2 e V3. Non ci sono delle vere e proprie differenze ma ogni versione contiene conversazioni diverse. Ognuna di esse è stata pulita, tramite regex di alcune frasi, ma come potremo notare in seguito avranno bisogno di ulteriori pulizie."
   ]
  },
  {
   "cell_type": "markdown",
   "id": "9d5525f4",
   "metadata": {
    "slideshow": {
     "slide_type": "subslide"
    }
   },
   "source": [
    "Una volta scaricato il dataset salvarlo all'interno della cartella sulla quale si sta lavorando"
   ]
  },
  {
   "cell_type": "markdown",
   "id": "141d927f",
   "metadata": {
    "slideshow": {
     "slide_type": "subslide"
    }
   },
   "source": [
    "### Importiamo le librerie che ci serviranno"
   ]
  },
  {
   "cell_type": "code",
   "execution_count": 4,
   "id": "59b22685",
   "metadata": {
    "slideshow": {
     "slide_type": "subslide"
    }
   },
   "outputs": [
    {
     "name": "stderr",
     "output_type": "stream",
     "text": [
      "[nltk_data] Downloading package punkt to\n",
      "[nltk_data]     /Users/francesconicotra/nltk_data...\n",
      "[nltk_data]   Package punkt is already up-to-date!\n",
      "[nltk_data] Downloading package averaged_perceptron_tagger to\n",
      "[nltk_data]     /Users/francesconicotra/nltk_data...\n",
      "[nltk_data]   Package averaged_perceptron_tagger is already up-to-\n",
      "[nltk_data]       date!\n",
      "[nltk_data] Downloading package wordnet to\n",
      "[nltk_data]     /Users/francesconicotra/nltk_data...\n",
      "[nltk_data]   Package wordnet is already up-to-date!\n",
      "[nltk_data] Downloading package vader_lexicon to\n",
      "[nltk_data]     /Users/francesconicotra/nltk_data...\n",
      "[nltk_data]   Package vader_lexicon is already up-to-date!\n",
      "[nltk_data] Downloading package stopwords to\n",
      "[nltk_data]     /Users/francesconicotra/nltk_data...\n",
      "[nltk_data]   Package stopwords is already up-to-date!\n"
     ]
    },
    {
     "data": {
      "text/plain": [
       "True"
      ]
     },
     "execution_count": 4,
     "metadata": {},
     "output_type": "execute_result"
    }
   ],
   "source": [
    "import pandas as pd\n",
    "import numpy as np\n",
    "import csv\n",
    "#for text pre-processing\n",
    "import re, string\n",
    "import nltk\n",
    "from nltk.tokenize import word_tokenize\n",
    "from nltk.corpus import stopwords\n",
    "from nltk.tokenize import word_tokenize\n",
    "from nltk.stem import SnowballStemmer\n",
    "from nltk.corpus import wordnet\n",
    "from nltk.stem import WordNetLemmatizer\n",
    "nltk.download('punkt')\n",
    "nltk.download('averaged_perceptron_tagger')\n",
    "nltk.download('wordnet')\n",
    "nltk.download('vader_lexicon')\n",
    "nltk.download('stopwords')"
   ]
  },
  {
   "cell_type": "markdown",
   "id": "bef5393a",
   "metadata": {
    "slideshow": {
     "slide_type": "slide"
    }
   },
   "source": [
    "## Creaiamo il nostro csv"
   ]
  },
  {
   "cell_type": "markdown",
   "id": "9edeb47d",
   "metadata": {
    "slideshow": {
     "slide_type": "subslide"
    }
   },
   "source": [
    "Il codice che segue crea una csv con due colonne (nome, testo) in quanto come si può notare dall'immagine tutti i file di testo con le chat saranno composti in questo modo \"nome utente: testo\"<br>\n",
    "<center><img src='./immagini/formatotesto.png' alt='formato del testo' width='1024px' height='780px'/></center>"
   ]
  },
  {
   "cell_type": "code",
   "execution_count": 6,
   "id": "5715e63d",
   "metadata": {
    "slideshow": {
     "slide_type": "subslide"
    }
   },
   "outputs": [],
   "source": [
    "path = \"archive/v1/content/drive/Shareddrives/Datasets/cleaned-v4/discord-v1/[136542963336478720] [part 1].txt\"\n",
    "\n",
    "# Leggi il contenuto del file\n",
    "with open(path, 'r', encoding='utf-8') as file:\n",
    "    content = file.read()\n",
    "\n",
    "# Sostituisci manualmente il \"\\n\" con un vero a capo\n",
    "content = content.replace(\"\\\\n\", \"\\n\")\n",
    "\n",
    "# Trova corrispondenze di \"nome: testo\" in ogni riga\n",
    "matches = re.findall(r'(\\w+): (.+?)(?=\\s\\w+:|$)', content, flags=re.DOTALL)\n",
    "\n",
    "# Scrivi i risultati in un file CSV\n",
    "with open('dataset.csv', 'w', newline='', encoding='utf-8') as csvfile:\n",
    "    csv_writer = csv.writer(csvfile)\n",
    "    csv_writer.writerow(['nome', 'testo'])\n",
    "    for match in matches:\n",
    "        row = [match[0], match[1].replace(\"\\n\", \" \")]  # Sostituisci il \"\\n\" con uno spazio\n",
    "        csv_writer.writerow(row)\n"
   ]
  },
  {
   "cell_type": "markdown",
   "id": "76ade2f5",
   "metadata": {
    "slideshow": {
     "slide_type": "subslide"
    }
   },
   "source": [
    "### Leggiamo il nostro csv"
   ]
  },
  {
   "cell_type": "markdown",
   "id": "dda346d7",
   "metadata": {
    "slideshow": {
     "slide_type": "subslide"
    }
   },
   "source": [
    "Una volta creato il nostro csv, lo salveremo in una variabile in questo caso chiamata 'test' e lo stamperemo per vedere se è stato creato correttamente."
   ]
  },
  {
   "cell_type": "code",
   "execution_count": 8,
   "id": "1d4118e7",
   "metadata": {
    "slideshow": {
     "slide_type": "subslide"
    }
   },
   "outputs": [
    {
     "name": "stdout",
     "output_type": "stream",
     "text": [
      "    nome                                              testo\n",
      "0  Petal                                        I made this\n",
      "1    tiz                                        i made this\n",
      "2  Petal                      how do i give you permissions\n",
      "3    tiz                                            no idea\n",
      "4  Petal  anyways, exploring this as a fill in for tinychat\n"
     ]
    }
   ],
   "source": [
    "test = pd.read_csv(\"./dataset.csv\")\n",
    "print(test.head())"
   ]
  },
  {
   "cell_type": "markdown",
   "id": "bbe580ef",
   "metadata": {
    "slideshow": {
     "slide_type": "slide"
    }
   },
   "source": [
    "## Primi test"
   ]
  },
  {
   "cell_type": "markdown",
   "id": "633dad0b",
   "metadata": {
    "slideshow": {
     "slide_type": "subslide"
    }
   },
   "source": [
    "Una delle prime prove che mi viene in mente da poter fare è quella di contare la media della parole e dei caratteri in ogni frase"
   ]
  },
  {
   "cell_type": "code",
   "execution_count": 9,
   "id": "1c16e3e7",
   "metadata": {
    "slideshow": {
     "slide_type": "subslide"
    }
   },
   "outputs": [
    {
     "name": "stdout",
     "output_type": "stream",
     "text": [
      "media parole: 8.474250270920804\n",
      "media caratteri: 43.93081308915064\n"
     ]
    }
   ],
   "source": [
    "#media parole e caratteri per frase\n",
    "test['word_count'] = test['testo'].apply(lambda x: len(str(x).split()))\n",
    "test['char_count'] = test['testo'].apply(lambda x: len(str(x)))\n",
    "print(f\"media parole: {test['word_count'].mean()}\")\n",
    "print(f\"media caratteri: {test['char_count'].mean()}\")"
   ]
  },
  {
   "cell_type": "markdown",
   "id": "b048aabc",
   "metadata": {
    "slideshow": {
     "slide_type": "slide"
    }
   },
   "source": [
    "## Pulizia stringhe"
   ]
  },
  {
   "cell_type": "markdown",
   "id": "c1bf9169",
   "metadata": {
    "slideshow": {
     "slide_type": "subslide"
    }
   },
   "source": [
    "Per iniziare e rendere il tutto più semplice trasformeremo tutte le stringhe in lowercase"
   ]
  },
  {
   "cell_type": "code",
   "execution_count": 10,
   "id": "7b0a1466",
   "metadata": {
    "slideshow": {
     "slide_type": "subslide"
    }
   },
   "outputs": [],
   "source": [
    "test['nome'] = test['nome'].apply(lambda x: str.lower(x) if pd.isna(x) != True else x)\n",
    "test['testo'] = test['testo'].apply(lambda x: str.lower(x) if pd.isna(x) != True else x)\n",
    "test['clean_text'] = test['testo'].apply(lambda x: str.lower(x) if pd.isna(x) != True else x)"
   ]
  },
  {
   "cell_type": "code",
   "execution_count": 11,
   "id": "157a3ada",
   "metadata": {
    "slideshow": {
     "slide_type": "subslide"
    }
   },
   "outputs": [
    {
     "data": {
      "text/html": [
       "<div>\n",
       "<style scoped>\n",
       "    .dataframe tbody tr th:only-of-type {\n",
       "        vertical-align: middle;\n",
       "    }\n",
       "\n",
       "    .dataframe tbody tr th {\n",
       "        vertical-align: top;\n",
       "    }\n",
       "\n",
       "    .dataframe thead th {\n",
       "        text-align: right;\n",
       "    }\n",
       "</style>\n",
       "<table border=\"1\" class=\"dataframe\">\n",
       "  <thead>\n",
       "    <tr style=\"text-align: right;\">\n",
       "      <th></th>\n",
       "      <th>nome</th>\n",
       "      <th>testo</th>\n",
       "      <th>word_count</th>\n",
       "      <th>char_count</th>\n",
       "      <th>clean_text</th>\n",
       "    </tr>\n",
       "  </thead>\n",
       "  <tbody>\n",
       "    <tr>\n",
       "      <th>64056</th>\n",
       "      <td>coffee</td>\n",
       "      <td>i can't remember which way the smily face has ...</td>\n",
       "      <td>20</td>\n",
       "      <td>93</td>\n",
       "      <td>i can't remember which way the smily face has ...</td>\n",
       "    </tr>\n",
       "    <tr>\n",
       "      <th>132255</th>\n",
       "      <td>spongengebob</td>\n",
       "      <td>thanks :smiley:</td>\n",
       "      <td>2</td>\n",
       "      <td>15</td>\n",
       "      <td>thanks :smiley:</td>\n",
       "    </tr>\n",
       "    <tr>\n",
       "      <th>111885</th>\n",
       "      <td>chef</td>\n",
       "      <td>yeah, stuff happened. it's ok now, though inte...</td>\n",
       "      <td>10</td>\n",
       "      <td>61</td>\n",
       "      <td>yeah, stuff happened. it's ok now, though inte...</td>\n",
       "    </tr>\n",
       "    <tr>\n",
       "      <th>57127</th>\n",
       "      <td>kyleg</td>\n",
       "      <td>wait... i thought you were a guy... ah, the ch...</td>\n",
       "      <td>19</td>\n",
       "      <td>111</td>\n",
       "      <td>wait... i thought you were a guy... ah, the ch...</td>\n",
       "    </tr>\n",
       "    <tr>\n",
       "      <th>7748</th>\n",
       "      <td>ohsomeevilspirit</td>\n",
       "      <td>what kinda cake? i'm doing well.. currently gr...</td>\n",
       "      <td>12</td>\n",
       "      <td>74</td>\n",
       "      <td>what kinda cake? i'm doing well.. currently gr...</td>\n",
       "    </tr>\n",
       "    <tr>\n",
       "      <th>91538</th>\n",
       "      <td>degenerous</td>\n",
       "      <td>without my presence</td>\n",
       "      <td>3</td>\n",
       "      <td>19</td>\n",
       "      <td>without my presence</td>\n",
       "    </tr>\n",
       "    <tr>\n",
       "      <th>98409</th>\n",
       "      <td>stubbieinc</td>\n",
       "      <td>im stibboe stubbie</td>\n",
       "      <td>3</td>\n",
       "      <td>18</td>\n",
       "      <td>im stibboe stubbie</td>\n",
       "    </tr>\n",
       "    <tr>\n",
       "      <th>121520</th>\n",
       "      <td>vc</td>\n",
       "      <td>yeah, overnight the curry flavors all fuse tog...</td>\n",
       "      <td>11</td>\n",
       "      <td>67</td>\n",
       "      <td>yeah, overnight the curry flavors all fuse tog...</td>\n",
       "    </tr>\n",
       "    <tr>\n",
       "      <th>181142</th>\n",
       "      <td>zumie</td>\n",
       "      <td>@peaceoops soops!</td>\n",
       "      <td>2</td>\n",
       "      <td>17</td>\n",
       "      <td>@peaceoops soops!</td>\n",
       "    </tr>\n",
       "    <tr>\n",
       "      <th>107825</th>\n",
       "      <td>vc</td>\n",
       "      <td>chatquotes openmic people</td>\n",
       "      <td>3</td>\n",
       "      <td>25</td>\n",
       "      <td>chatquotes openmic people</td>\n",
       "    </tr>\n",
       "  </tbody>\n",
       "</table>\n",
       "</div>"
      ],
      "text/plain": [
       "                    nome                                              testo  \\\n",
       "64056             coffee  i can't remember which way the smily face has ...   \n",
       "132255      spongengebob                                    thanks :smiley:   \n",
       "111885              chef  yeah, stuff happened. it's ok now, though inte...   \n",
       "57127              kyleg  wait... i thought you were a guy... ah, the ch...   \n",
       "7748    ohsomeevilspirit  what kinda cake? i'm doing well.. currently gr...   \n",
       "91538         degenerous                                without my presence   \n",
       "98409         stubbieinc                                 im stibboe stubbie   \n",
       "121520                vc  yeah, overnight the curry flavors all fuse tog...   \n",
       "181142             zumie                                  @peaceoops soops!   \n",
       "107825                vc                          chatquotes openmic people   \n",
       "\n",
       "        word_count  char_count  \\\n",
       "64056           20          93   \n",
       "132255           2          15   \n",
       "111885          10          61   \n",
       "57127           19         111   \n",
       "7748            12          74   \n",
       "91538            3          19   \n",
       "98409            3          18   \n",
       "121520          11          67   \n",
       "181142           2          17   \n",
       "107825           3          25   \n",
       "\n",
       "                                               clean_text  \n",
       "64056   i can't remember which way the smily face has ...  \n",
       "132255                                    thanks :smiley:  \n",
       "111885  yeah, stuff happened. it's ok now, though inte...  \n",
       "57127   wait... i thought you were a guy... ah, the ch...  \n",
       "7748    what kinda cake? i'm doing well.. currently gr...  \n",
       "91538                                 without my presence  \n",
       "98409                                  im stibboe stubbie  \n",
       "121520  yeah, overnight the curry flavors all fuse tog...  \n",
       "181142                                  @peaceoops soops!  \n",
       "107825                          chatquotes openmic people  "
      ]
     },
     "execution_count": 11,
     "metadata": {},
     "output_type": "execute_result"
    }
   ],
   "source": [
    "test.sample(10)"
   ]
  },
  {
   "cell_type": "markdown",
   "id": "576d80e3",
   "metadata": {
    "slideshow": {
     "slide_type": "subslide"
    }
   },
   "source": [
    "### Rimozione link"
   ]
  },
  {
   "cell_type": "markdown",
   "id": "04da919a",
   "metadata": {
    "slideshow": {
     "slide_type": "subslide"
    }
   },
   "source": [
    "Dato che i link non ci interessano per questo tutorial attraverso una regex li rimuoveremo."
   ]
  },
  {
   "cell_type": "code",
   "execution_count": 12,
   "id": "c254e2da",
   "metadata": {
    "slideshow": {
     "slide_type": "subslide"
    }
   },
   "outputs": [],
   "source": [
    "test['clean_text'] = test['clean_text'].apply(lambda x: re.sub(r'http\\S+|www\\S+','',x) if pd.isna(x) != True else x)"
   ]
  },
  {
   "cell_type": "code",
   "execution_count": 13,
   "id": "4700e628",
   "metadata": {
    "slideshow": {
     "slide_type": "subslide"
    }
   },
   "outputs": [
    {
     "data": {
      "text/html": [
       "<div>\n",
       "<style scoped>\n",
       "    .dataframe tbody tr th:only-of-type {\n",
       "        vertical-align: middle;\n",
       "    }\n",
       "\n",
       "    .dataframe tbody tr th {\n",
       "        vertical-align: top;\n",
       "    }\n",
       "\n",
       "    .dataframe thead th {\n",
       "        text-align: right;\n",
       "    }\n",
       "</style>\n",
       "<table border=\"1\" class=\"dataframe\">\n",
       "  <thead>\n",
       "    <tr style=\"text-align: right;\">\n",
       "      <th></th>\n",
       "      <th>nome</th>\n",
       "      <th>testo</th>\n",
       "      <th>word_count</th>\n",
       "      <th>char_count</th>\n",
       "      <th>clean_text</th>\n",
       "    </tr>\n",
       "  </thead>\n",
       "  <tbody>\n",
       "    <tr>\n",
       "      <th>32890</th>\n",
       "      <td>exhaustion</td>\n",
       "      <td>because god hates you</td>\n",
       "      <td>4</td>\n",
       "      <td>21</td>\n",
       "      <td>because god hates you</td>\n",
       "    </tr>\n",
       "    <tr>\n",
       "      <th>54812</th>\n",
       "      <td>esrever</td>\n",
       "      <td>ah, i see.</td>\n",
       "      <td>3</td>\n",
       "      <td>10</td>\n",
       "      <td>ah, i see.</td>\n",
       "    </tr>\n",
       "    <tr>\n",
       "      <th>81403</th>\n",
       "      <td>ani</td>\n",
       "      <td>oosnight</td>\n",
       "      <td>1</td>\n",
       "      <td>8</td>\n",
       "      <td>oosnight</td>\n",
       "    </tr>\n",
       "    <tr>\n",
       "      <th>83060</th>\n",
       "      <td>baathsalts</td>\n",
       "      <td>that's really good.\\ttower</td>\n",
       "      <td>4</td>\n",
       "      <td>25</td>\n",
       "      <td>that's really good.\\ttower</td>\n",
       "    </tr>\n",
       "    <tr>\n",
       "      <th>122440</th>\n",
       "      <td>coffee</td>\n",
       "      <td>probably because the store was founded here</td>\n",
       "      <td>7</td>\n",
       "      <td>43</td>\n",
       "      <td>probably because the store was founded here</td>\n",
       "    </tr>\n",
       "    <tr>\n",
       "      <th>160983</th>\n",
       "      <td>chef</td>\n",
       "      <td>self destructs</td>\n",
       "      <td>2</td>\n",
       "      <td>14</td>\n",
       "      <td>self destructs</td>\n",
       "    </tr>\n",
       "    <tr>\n",
       "      <th>163534</th>\n",
       "      <td>eliott</td>\n",
       "      <td>that's awesome.</td>\n",
       "      <td>2</td>\n",
       "      <td>15</td>\n",
       "      <td>that's awesome.</td>\n",
       "    </tr>\n",
       "    <tr>\n",
       "      <th>171730</th>\n",
       "      <td>deepfriar</td>\n",
       "      <td>nope.</td>\n",
       "      <td>1</td>\n",
       "      <td>5</td>\n",
       "      <td>nope.</td>\n",
       "    </tr>\n",
       "    <tr>\n",
       "      <th>89208</th>\n",
       "      <td>r</td>\n",
       "      <td>? whats high school?</td>\n",
       "      <td>4</td>\n",
       "      <td>20</td>\n",
       "      <td>? whats high school?</td>\n",
       "    </tr>\n",
       "    <tr>\n",
       "      <th>166926</th>\n",
       "      <td>gvidas</td>\n",
       "      <td>good job</td>\n",
       "      <td>2</td>\n",
       "      <td>8</td>\n",
       "      <td>good job</td>\n",
       "    </tr>\n",
       "  </tbody>\n",
       "</table>\n",
       "</div>"
      ],
      "text/plain": [
       "              nome                                        testo  word_count  \\\n",
       "32890   exhaustion                        because god hates you           4   \n",
       "54812      esrever                                   ah, i see.           3   \n",
       "81403          ani                                     oosnight           1   \n",
       "83060   baathsalts                   that's really good.\\ttower           4   \n",
       "122440      coffee  probably because the store was founded here           7   \n",
       "160983        chef                               self destructs           2   \n",
       "163534      eliott                              that's awesome.           2   \n",
       "171730   deepfriar                                        nope.           1   \n",
       "89208            r                         ? whats high school?           4   \n",
       "166926      gvidas                                     good job           2   \n",
       "\n",
       "        char_count                                   clean_text  \n",
       "32890           21                        because god hates you  \n",
       "54812           10                                   ah, i see.  \n",
       "81403            8                                     oosnight  \n",
       "83060           25                   that's really good.\\ttower  \n",
       "122440          43  probably because the store was founded here  \n",
       "160983          14                               self destructs  \n",
       "163534          15                              that's awesome.  \n",
       "171730           5                                        nope.  \n",
       "89208           20                         ? whats high school?  \n",
       "166926           8                                     good job  "
      ]
     },
     "execution_count": 13,
     "metadata": {},
     "output_type": "execute_result"
    }
   ],
   "source": [
    "test.sample(10)"
   ]
  },
  {
   "cell_type": "markdown",
   "id": "404fd7b8",
   "metadata": {
    "slideshow": {
     "slide_type": "subslide"
    }
   },
   "source": [
    "### Rimozione entità"
   ]
  },
  {
   "cell_type": "markdown",
   "id": "49ad5a9d",
   "metadata": {
    "slideshow": {
     "slide_type": "subslide"
    }
   },
   "source": [
    "Dato che discord dà la possibilità di menzionare altri utenti attraverso \"@\" e di menzionare altri canali presenti all'interno del server attraverso \"#\", rimuovemero queste menzioni."
   ]
  },
  {
   "cell_type": "code",
   "execution_count": 14,
   "id": "7ceff202",
   "metadata": {
    "slideshow": {
     "slide_type": "subslide"
    }
   },
   "outputs": [],
   "source": [
    "def remove_entities(text):\n",
    "    entity_prefixes = ['@', '#']\n",
    "    for separator in string.punctuation:\n",
    "        if separator not in entity_prefixes:\n",
    "            text = text.replace(separator, '')\n",
    "    words = []\n",
    "    for word in text.split():\n",
    "        word = word.strip()\n",
    "        if word:\n",
    "            if word[0] not in entity_prefixes:\n",
    "                words.append(word)\n",
    "    return ' '.join(words)"
   ]
  },
  {
   "cell_type": "code",
   "execution_count": 15,
   "id": "949e30d2",
   "metadata": {
    "slideshow": {
     "slide_type": "subslide"
    }
   },
   "outputs": [],
   "source": [
    "test['clean_text'] = test['clean_text'].apply(lambda x: remove_entities(x) if pd.isna(x) != True else x)"
   ]
  },
  {
   "cell_type": "code",
   "execution_count": 16,
   "id": "64fa43c0",
   "metadata": {
    "slideshow": {
     "slide_type": "subslide"
    }
   },
   "outputs": [
    {
     "data": {
      "text/html": [
       "<div>\n",
       "<style scoped>\n",
       "    .dataframe tbody tr th:only-of-type {\n",
       "        vertical-align: middle;\n",
       "    }\n",
       "\n",
       "    .dataframe tbody tr th {\n",
       "        vertical-align: top;\n",
       "    }\n",
       "\n",
       "    .dataframe thead th {\n",
       "        text-align: right;\n",
       "    }\n",
       "</style>\n",
       "<table border=\"1\" class=\"dataframe\">\n",
       "  <thead>\n",
       "    <tr style=\"text-align: right;\">\n",
       "      <th></th>\n",
       "      <th>nome</th>\n",
       "      <th>testo</th>\n",
       "      <th>word_count</th>\n",
       "      <th>char_count</th>\n",
       "      <th>clean_text</th>\n",
       "    </tr>\n",
       "  </thead>\n",
       "  <tbody>\n",
       "    <tr>\n",
       "      <th>171751</th>\n",
       "      <td>deepfriar</td>\n",
       "      <td>and you're like the reject of vic</td>\n",
       "      <td>7</td>\n",
       "      <td>33</td>\n",
       "      <td>and youre like the reject of vic</td>\n",
       "    </tr>\n",
       "    <tr>\n",
       "      <th>47550</th>\n",
       "      <td>coalescence</td>\n",
       "      <td>ded</td>\n",
       "      <td>1</td>\n",
       "      <td>3</td>\n",
       "      <td>ded</td>\n",
       "    </tr>\n",
       "    <tr>\n",
       "      <th>136614</th>\n",
       "      <td>bearnadette</td>\n",
       "      <td>so, so so so. so.</td>\n",
       "      <td>5</td>\n",
       "      <td>17</td>\n",
       "      <td>so so so so so</td>\n",
       "    </tr>\n",
       "    <tr>\n",
       "      <th>5599</th>\n",
       "      <td>katz1</td>\n",
       "      <td>google spooky</td>\n",
       "      <td>2</td>\n",
       "      <td>13</td>\n",
       "      <td>google spooky</td>\n",
       "    </tr>\n",
       "    <tr>\n",
       "      <th>105301</th>\n",
       "      <td>coffee</td>\n",
       "      <td>yeah, because no one knows respect at nightclu...</td>\n",
       "      <td>9</td>\n",
       "      <td>56</td>\n",
       "      <td>yeah because no one knows respect at nightclub...</td>\n",
       "    </tr>\n",
       "    <tr>\n",
       "      <th>13594</th>\n",
       "      <td>carawayseeds</td>\n",
       "      <td>my avatar is a selfie\\traviole,</td>\n",
       "      <td>6</td>\n",
       "      <td>30</td>\n",
       "      <td>my avatar is a selfie raviole</td>\n",
       "    </tr>\n",
       "    <tr>\n",
       "      <th>155028</th>\n",
       "      <td>vc</td>\n",
       "      <td>if they're slightly underdone is it all right</td>\n",
       "      <td>8</td>\n",
       "      <td>45</td>\n",
       "      <td>if theyre slightly underdone is it all right</td>\n",
       "    </tr>\n",
       "    <tr>\n",
       "      <th>135960</th>\n",
       "      <td>velocci</td>\n",
       "      <td>overwetch</td>\n",
       "      <td>1</td>\n",
       "      <td>9</td>\n",
       "      <td>overwetch</td>\n",
       "    </tr>\n",
       "    <tr>\n",
       "      <th>86732</th>\n",
       "      <td>ani</td>\n",
       "      <td>yeah mickey said she's busy and things ig also...</td>\n",
       "      <td>38</td>\n",
       "      <td>200</td>\n",
       "      <td>yeah mickey said shes busy and things ig also ...</td>\n",
       "    </tr>\n",
       "    <tr>\n",
       "      <th>88204</th>\n",
       "      <td>juviole</td>\n",
       "      <td>:heart:</td>\n",
       "      <td>1</td>\n",
       "      <td>7</td>\n",
       "      <td>heart</td>\n",
       "    </tr>\n",
       "  </tbody>\n",
       "</table>\n",
       "</div>"
      ],
      "text/plain": [
       "                nome                                              testo  \\\n",
       "171751     deepfriar                  and you're like the reject of vic   \n",
       "47550    coalescence                                                ded   \n",
       "136614   bearnadette                                  so, so so so. so.   \n",
       "5599           katz1                                      google spooky   \n",
       "105301        coffee  yeah, because no one knows respect at nightclu...   \n",
       "13594   carawayseeds                    my avatar is a selfie\\traviole,   \n",
       "155028            vc      if they're slightly underdone is it all right   \n",
       "135960       velocci                                          overwetch   \n",
       "86732            ani  yeah mickey said she's busy and things ig also...   \n",
       "88204        juviole                                            :heart:   \n",
       "\n",
       "        word_count  char_count  \\\n",
       "171751           7          33   \n",
       "47550            1           3   \n",
       "136614           5          17   \n",
       "5599             2          13   \n",
       "105301           9          56   \n",
       "13594            6          30   \n",
       "155028           8          45   \n",
       "135960           1           9   \n",
       "86732           38         200   \n",
       "88204            1           7   \n",
       "\n",
       "                                               clean_text  \n",
       "171751                   and youre like the reject of vic  \n",
       "47550                                                 ded  \n",
       "136614                                     so so so so so  \n",
       "5599                                        google spooky  \n",
       "105301  yeah because no one knows respect at nightclub...  \n",
       "13594                       my avatar is a selfie raviole  \n",
       "155028       if theyre slightly underdone is it all right  \n",
       "135960                                          overwetch  \n",
       "86732   yeah mickey said shes busy and things ig also ...  \n",
       "88204                                               heart  "
      ]
     },
     "execution_count": 16,
     "metadata": {},
     "output_type": "execute_result"
    }
   ],
   "source": [
    "test.sample(10)"
   ]
  },
  {
   "cell_type": "markdown",
   "id": "7b4d0610",
   "metadata": {
    "slideshow": {
     "slide_type": "subslide"
    }
   },
   "source": [
    "### Rimozione punteggiatura e caratteri speciali"
   ]
  },
  {
   "cell_type": "markdown",
   "id": "f13da5cf",
   "metadata": {
    "slideshow": {
     "slide_type": "subslide"
    }
   },
   "source": [
    "Per facilitarci ulteriormente il lavoro rimuoveremo tutta la punteggiatura e i caratteri speciali, inoltre si noti che all'interno dei testi sono presenti \"\\n\" e \"\\t\" che a noi non forniscono nessuna informazione aggiuntiva quindi verranno rimossi anche questi."
   ]
  },
  {
   "cell_type": "code",
   "execution_count": 17,
   "id": "2985714c",
   "metadata": {},
   "outputs": [],
   "source": [
    "test['clean_text'] = test['clean_text'].apply(lambda x: re.sub(r'[^\\w\\s]', ' ', x) if pd.notna(x) else x)\n",
    "test['clean_text'] = test['clean_text'].apply(lambda x: re.sub(r'[\\n\\t]', ' ', x) if pd.notna(x) else x)\n"
   ]
  },
  {
   "cell_type": "code",
   "execution_count": 18,
   "id": "037e62b0",
   "metadata": {},
   "outputs": [
    {
     "data": {
      "text/html": [
       "<div>\n",
       "<style scoped>\n",
       "    .dataframe tbody tr th:only-of-type {\n",
       "        vertical-align: middle;\n",
       "    }\n",
       "\n",
       "    .dataframe tbody tr th {\n",
       "        vertical-align: top;\n",
       "    }\n",
       "\n",
       "    .dataframe thead th {\n",
       "        text-align: right;\n",
       "    }\n",
       "</style>\n",
       "<table border=\"1\" class=\"dataframe\">\n",
       "  <thead>\n",
       "    <tr style=\"text-align: right;\">\n",
       "      <th></th>\n",
       "      <th>nome</th>\n",
       "      <th>testo</th>\n",
       "      <th>word_count</th>\n",
       "      <th>char_count</th>\n",
       "      <th>clean_text</th>\n",
       "    </tr>\n",
       "  </thead>\n",
       "  <tbody>\n",
       "    <tr>\n",
       "      <th>2797</th>\n",
       "      <td>captainguib</td>\n",
       "      <td>i am no singer\\tperpetual</td>\n",
       "      <td>5</td>\n",
       "      <td>24</td>\n",
       "      <td>i am no singer perpetual</td>\n",
       "    </tr>\n",
       "    <tr>\n",
       "      <th>140792</th>\n",
       "      <td>debiruman</td>\n",
       "      <td>@dvs i added you</td>\n",
       "      <td>4</td>\n",
       "      <td>16</td>\n",
       "      <td>i added you</td>\n",
       "    </tr>\n",
       "    <tr>\n",
       "      <th>21962</th>\n",
       "      <td>carawayseeds</td>\n",
       "      <td>work it's lame but it pays ze bills</td>\n",
       "      <td>8</td>\n",
       "      <td>35</td>\n",
       "      <td>work its lame but it pays ze bills</td>\n",
       "    </tr>\n",
       "    <tr>\n",
       "      <th>112123</th>\n",
       "      <td>mclovin</td>\n",
       "      <td>hey there!</td>\n",
       "      <td>2</td>\n",
       "      <td>10</td>\n",
       "      <td>hey there</td>\n",
       "    </tr>\n",
       "    <tr>\n",
       "      <th>29375</th>\n",
       "      <td>christie</td>\n",
       "      <td>what's the bet it's soneone singing</td>\n",
       "      <td>6</td>\n",
       "      <td>35</td>\n",
       "      <td>whats the bet its soneone singing</td>\n",
       "    </tr>\n",
       "    <tr>\n",
       "      <th>105870</th>\n",
       "      <td>joe</td>\n",
       "      <td>janji sedap okie</td>\n",
       "      <td>3</td>\n",
       "      <td>16</td>\n",
       "      <td>janji sedap okie</td>\n",
       "    </tr>\n",
       "    <tr>\n",
       "      <th>56897</th>\n",
       "      <td>nighthawk</td>\n",
       "      <td>i don't know about you but i'm feeling 22</td>\n",
       "      <td>9</td>\n",
       "      <td>41</td>\n",
       "      <td>i dont know about you but im feeling 22</td>\n",
       "    </tr>\n",
       "    <tr>\n",
       "      <th>108795</th>\n",
       "      <td>sinc</td>\n",
       "      <td>then join voice and find out, ez we're more im...</td>\n",
       "      <td>13</td>\n",
       "      <td>69</td>\n",
       "      <td>then join voice and find out ez were more impo...</td>\n",
       "    </tr>\n",
       "    <tr>\n",
       "      <th>154213</th>\n",
       "      <td>carawayseeds</td>\n",
       "      <td>i didn't do it</td>\n",
       "      <td>4</td>\n",
       "      <td>14</td>\n",
       "      <td>i didnt do it</td>\n",
       "    </tr>\n",
       "    <tr>\n",
       "      <th>174462</th>\n",
       "      <td>gvidas</td>\n",
       "      <td>pot?</td>\n",
       "      <td>1</td>\n",
       "      <td>4</td>\n",
       "      <td>pot</td>\n",
       "    </tr>\n",
       "  </tbody>\n",
       "</table>\n",
       "</div>"
      ],
      "text/plain": [
       "                nome                                              testo  \\\n",
       "2797     captainguib                          i am no singer\\tperpetual   \n",
       "140792     debiruman                                   @dvs i added you   \n",
       "21962   carawayseeds                work it's lame but it pays ze bills   \n",
       "112123       mclovin                                         hey there!   \n",
       "29375       christie                what's the bet it's soneone singing   \n",
       "105870           joe                                   janji sedap okie   \n",
       "56897      nighthawk          i don't know about you but i'm feeling 22   \n",
       "108795          sinc  then join voice and find out, ez we're more im...   \n",
       "154213  carawayseeds                                     i didn't do it   \n",
       "174462        gvidas                                               pot?   \n",
       "\n",
       "        word_count  char_count  \\\n",
       "2797             5          24   \n",
       "140792           4          16   \n",
       "21962            8          35   \n",
       "112123           2          10   \n",
       "29375            6          35   \n",
       "105870           3          16   \n",
       "56897            9          41   \n",
       "108795          13          69   \n",
       "154213           4          14   \n",
       "174462           1           4   \n",
       "\n",
       "                                               clean_text  \n",
       "2797                             i am no singer perpetual  \n",
       "140792                                        i added you  \n",
       "21962                  work its lame but it pays ze bills  \n",
       "112123                                          hey there  \n",
       "29375                   whats the bet its soneone singing  \n",
       "105870                                   janji sedap okie  \n",
       "56897             i dont know about you but im feeling 22  \n",
       "108795  then join voice and find out ez were more impo...  \n",
       "154213                                      i didnt do it  \n",
       "174462                                                pot  "
      ]
     },
     "execution_count": 18,
     "metadata": {},
     "output_type": "execute_result"
    }
   ],
   "source": [
    "test.sample(10)"
   ]
  },
  {
   "cell_type": "markdown",
   "id": "d442f99f",
   "metadata": {
    "slideshow": {
     "slide_type": "slide"
    }
   },
   "source": [
    "## Lemmatizzazione e stop words"
   ]
  },
  {
   "cell_type": "markdown",
   "id": "bba20d6f",
   "metadata": {
    "slideshow": {
     "slide_type": "subslide"
    }
   },
   "source": [
    "Attraverso nltk, che è una libreria di python progettata per l'elaborazione del linguaggio naturale, che mette a disposizione \"WordNetLemmatizer\" effettuare la lemmatizzazione delle nostre frasi risulta molto facile. Perché fare la lemmatizzazione? Renderà il lavoro del nostro modello più semplice dato che con un dataset di una chat di gruppo grande, potrebbe essere utile ridurre la dimensionalità del testo e migliorare la generalizzazione del modello."
   ]
  },
  {
   "cell_type": "code",
   "execution_count": 19,
   "id": "e7058d94",
   "metadata": {
    "slideshow": {
     "slide_type": "subslide"
    }
   },
   "outputs": [],
   "source": [
    "wl = WordNetLemmatizer()\n",
    "\n",
    "def get_wordnet_pos(tag):\n",
    "    if tag.startswith('J'):\n",
    "        return wordnet.ADJ\n",
    "    elif tag.startswith('V'):\n",
    "        return wordnet.VERB\n",
    "    elif tag.startswith('N'):\n",
    "        return wordnet.NOUN\n",
    "    elif tag.startswith('R'):\n",
    "        return wordnet.ADV\n",
    "    else:\n",
    "        return wordnet.NOUN\n",
    "\n",
    "def lemmatizer(string):\n",
    "    word_pos_tags = nltk.pos_tag(word_tokenize(string))\n",
    "    a = [wl.lemmatize(tag[0], get_wordnet_pos(tag[1])) for idx, tag in enumerate(word_pos_tags)]\n",
    "    return \" \".join(a)"
   ]
  },
  {
   "cell_type": "code",
   "execution_count": 20,
   "id": "2164dc35",
   "metadata": {
    "slideshow": {
     "slide_type": "subslide"
    }
   },
   "outputs": [],
   "source": [
    "test['clean_text'] = test['clean_text'].apply(lambda x: lemmatizer(x) if pd.isna(x) != True else x)"
   ]
  },
  {
   "cell_type": "code",
   "execution_count": 21,
   "id": "3151efa1",
   "metadata": {
    "slideshow": {
     "slide_type": "subslide"
    }
   },
   "outputs": [
    {
     "data": {
      "text/html": [
       "<div>\n",
       "<style scoped>\n",
       "    .dataframe tbody tr th:only-of-type {\n",
       "        vertical-align: middle;\n",
       "    }\n",
       "\n",
       "    .dataframe tbody tr th {\n",
       "        vertical-align: top;\n",
       "    }\n",
       "\n",
       "    .dataframe thead th {\n",
       "        text-align: right;\n",
       "    }\n",
       "</style>\n",
       "<table border=\"1\" class=\"dataframe\">\n",
       "  <thead>\n",
       "    <tr style=\"text-align: right;\">\n",
       "      <th></th>\n",
       "      <th>nome</th>\n",
       "      <th>testo</th>\n",
       "      <th>word_count</th>\n",
       "      <th>char_count</th>\n",
       "      <th>clean_text</th>\n",
       "    </tr>\n",
       "  </thead>\n",
       "  <tbody>\n",
       "    <tr>\n",
       "      <th>124182</th>\n",
       "      <td>sinc</td>\n",
       "      <td>there</td>\n",
       "      <td>1</td>\n",
       "      <td>5</td>\n",
       "      <td>there</td>\n",
       "    </tr>\n",
       "    <tr>\n",
       "      <th>90763</th>\n",
       "      <td>joey</td>\n",
       "      <td>london innit blud</td>\n",
       "      <td>3</td>\n",
       "      <td>17</td>\n",
       "      <td>london innit blud</td>\n",
       "    </tr>\n",
       "    <tr>\n",
       "      <th>36492</th>\n",
       "      <td>arthur</td>\n",
       "      <td>you need a hype man</td>\n",
       "      <td>5</td>\n",
       "      <td>19</td>\n",
       "      <td>you need a hype man</td>\n",
       "    </tr>\n",
       "    <tr>\n",
       "      <th>35153</th>\n",
       "      <td>mimizu</td>\n",
       "      <td>tiedye</td>\n",
       "      <td>1</td>\n",
       "      <td>6</td>\n",
       "      <td>tiedye</td>\n",
       "    </tr>\n",
       "    <tr>\n",
       "      <th>142628</th>\n",
       "      <td>nerd</td>\n",
       "      <td>its called beyaz peynir which translates white...</td>\n",
       "      <td>8</td>\n",
       "      <td>53</td>\n",
       "      <td>it call beyaz peynir which translate white cheese</td>\n",
       "    </tr>\n",
       "    <tr>\n",
       "      <th>39479</th>\n",
       "      <td>reichtangle</td>\n",
       "      <td>except me</td>\n",
       "      <td>2</td>\n",
       "      <td>9</td>\n",
       "      <td>except me</td>\n",
       "    </tr>\n",
       "    <tr>\n",
       "      <th>121424</th>\n",
       "      <td>coffee</td>\n",
       "      <td>@vc</td>\n",
       "      <td>1</td>\n",
       "      <td>3</td>\n",
       "      <td></td>\n",
       "    </tr>\n",
       "    <tr>\n",
       "      <th>114855</th>\n",
       "      <td>peaceoops</td>\n",
       "      <td>fuck you.\\tl i a</td>\n",
       "      <td>5</td>\n",
       "      <td>15</td>\n",
       "      <td>fuck you l i a</td>\n",
       "    </tr>\n",
       "    <tr>\n",
       "      <th>16203</th>\n",
       "      <td>creakylatches</td>\n",
       "      <td>casper's jealous of me. awww cute</td>\n",
       "      <td>6</td>\n",
       "      <td>33</td>\n",
       "      <td>casper jealous of me awww cute</td>\n",
       "    </tr>\n",
       "    <tr>\n",
       "      <th>49669</th>\n",
       "      <td>vc</td>\n",
       "      <td>end of april beginning of may</td>\n",
       "      <td>6</td>\n",
       "      <td>29</td>\n",
       "      <td>end of april beginning of may</td>\n",
       "    </tr>\n",
       "  </tbody>\n",
       "</table>\n",
       "</div>"
      ],
      "text/plain": [
       "                 nome                                              testo  \\\n",
       "124182           sinc                                              there   \n",
       "90763            joey                                  london innit blud   \n",
       "36492          arthur                                you need a hype man   \n",
       "35153          mimizu                                             tiedye   \n",
       "142628           nerd  its called beyaz peynir which translates white...   \n",
       "39479     reichtangle                                          except me   \n",
       "121424         coffee                                                @vc   \n",
       "114855      peaceoops                                   fuck you.\\tl i a   \n",
       "16203   creakylatches                  casper's jealous of me. awww cute   \n",
       "49669              vc                      end of april beginning of may   \n",
       "\n",
       "        word_count  char_count  \\\n",
       "124182           1           5   \n",
       "90763            3          17   \n",
       "36492            5          19   \n",
       "35153            1           6   \n",
       "142628           8          53   \n",
       "39479            2           9   \n",
       "121424           1           3   \n",
       "114855           5          15   \n",
       "16203            6          33   \n",
       "49669            6          29   \n",
       "\n",
       "                                               clean_text  \n",
       "124182                                              there  \n",
       "90763                                   london innit blud  \n",
       "36492                                 you need a hype man  \n",
       "35153                                              tiedye  \n",
       "142628  it call beyaz peynir which translate white cheese  \n",
       "39479                                           except me  \n",
       "121424                                                     \n",
       "114855                                     fuck you l i a  \n",
       "16203                      casper jealous of me awww cute  \n",
       "49669                       end of april beginning of may  "
      ]
     },
     "execution_count": 21,
     "metadata": {},
     "output_type": "execute_result"
    }
   ],
   "source": [
    "test.sample(10)"
   ]
  },
  {
   "cell_type": "markdown",
   "id": "788d23c4",
   "metadata": {
    "slideshow": {
     "slide_type": "subslide"
    }
   },
   "source": [
    "Sempre grazie a nltk è possibile rimuovere tutte le parole che non forniscono alcuna informazione, le cosiddette \"stop words\""
   ]
  },
  {
   "cell_type": "code",
   "execution_count": 22,
   "id": "0d5ea844",
   "metadata": {
    "slideshow": {
     "slide_type": "subslide"
    }
   },
   "outputs": [],
   "source": [
    "def stopword(string):\n",
    "    a = [i for i in string.split() if i not in stopwords.words('english')]\n",
    "    return ' '.join(a)"
   ]
  },
  {
   "cell_type": "code",
   "execution_count": 23,
   "id": "f48cd248",
   "metadata": {
    "slideshow": {
     "slide_type": "subslide"
    }
   },
   "outputs": [],
   "source": [
    "test['clean_text'] = test['clean_text'].apply(lambda x: stopword(x) if pd.isna(x) != True else x)"
   ]
  },
  {
   "cell_type": "code",
   "execution_count": 24,
   "id": "5c5564f7",
   "metadata": {
    "slideshow": {
     "slide_type": "subslide"
    }
   },
   "outputs": [
    {
     "data": {
      "text/html": [
       "<div>\n",
       "<style scoped>\n",
       "    .dataframe tbody tr th:only-of-type {\n",
       "        vertical-align: middle;\n",
       "    }\n",
       "\n",
       "    .dataframe tbody tr th {\n",
       "        vertical-align: top;\n",
       "    }\n",
       "\n",
       "    .dataframe thead th {\n",
       "        text-align: right;\n",
       "    }\n",
       "</style>\n",
       "<table border=\"1\" class=\"dataframe\">\n",
       "  <thead>\n",
       "    <tr style=\"text-align: right;\">\n",
       "      <th></th>\n",
       "      <th>nome</th>\n",
       "      <th>testo</th>\n",
       "      <th>word_count</th>\n",
       "      <th>char_count</th>\n",
       "      <th>clean_text</th>\n",
       "    </tr>\n",
       "  </thead>\n",
       "  <tbody>\n",
       "    <tr>\n",
       "      <th>87957</th>\n",
       "      <td>peaceoops</td>\n",
       "      <td>i'll order that right now handshape. the way m...</td>\n",
       "      <td>23</td>\n",
       "      <td>122</td>\n",
       "      <td>ill order right handshape way career go would ...</td>\n",
       "    </tr>\n",
       "    <tr>\n",
       "      <th>111293</th>\n",
       "      <td>bearnadette</td>\n",
       "      <td>arizona scaryplace</td>\n",
       "      <td>2</td>\n",
       "      <td>18</td>\n",
       "      <td>arizona scaryplace</td>\n",
       "    </tr>\n",
       "    <tr>\n",
       "      <th>177306</th>\n",
       "      <td>feel</td>\n",
       "      <td>she didn't answer.</td>\n",
       "      <td>3</td>\n",
       "      <td>18</td>\n",
       "      <td>didnt answer</td>\n",
       "    </tr>\n",
       "    <tr>\n",
       "      <th>1301</th>\n",
       "      <td>tiz</td>\n",
       "      <td>wut</td>\n",
       "      <td>1</td>\n",
       "      <td>3</td>\n",
       "      <td>wut</td>\n",
       "    </tr>\n",
       "    <tr>\n",
       "      <th>135696</th>\n",
       "      <td>zumie</td>\n",
       "      <td>i need more caraway, apples, fine shananigans ...</td>\n",
       "      <td>10</td>\n",
       "      <td>56</td>\n",
       "      <td>need caraway apple fine shananigans life</td>\n",
       "    </tr>\n",
       "    <tr>\n",
       "      <th>93847</th>\n",
       "      <td>delanie</td>\n",
       "      <td>any suggestions on how to move on from someone...</td>\n",
       "      <td>10</td>\n",
       "      <td>50</td>\n",
       "      <td>suggestion move someone</td>\n",
       "    </tr>\n",
       "    <tr>\n",
       "      <th>42708</th>\n",
       "      <td>rdhoka</td>\n",
       "      <td>:heart_eyes: everyone in the room rightnow</td>\n",
       "      <td>6</td>\n",
       "      <td>42</td>\n",
       "      <td>hearteyes everyone room rightnow</td>\n",
       "    </tr>\n",
       "    <tr>\n",
       "      <th>148938</th>\n",
       "      <td>jaws</td>\n",
       "      <td>i have done the important things of the day</td>\n",
       "      <td>9</td>\n",
       "      <td>43</td>\n",
       "      <td>important thing day</td>\n",
       "    </tr>\n",
       "    <tr>\n",
       "      <th>37038</th>\n",
       "      <td>carawayseeds</td>\n",
       "      <td>shut up @reichtangle</td>\n",
       "      <td>3</td>\n",
       "      <td>20</td>\n",
       "      <td>shut</td>\n",
       "    </tr>\n",
       "    <tr>\n",
       "      <th>29233</th>\n",
       "      <td>carawayseeds</td>\n",
       "      <td>things are okay! i've been trying to figure ou...</td>\n",
       "      <td>28</td>\n",
       "      <td>143</td>\n",
       "      <td>thing okay ive try figure shoe pair skirt mine...</td>\n",
       "    </tr>\n",
       "  </tbody>\n",
       "</table>\n",
       "</div>"
      ],
      "text/plain": [
       "                nome                                              testo  \\\n",
       "87957      peaceoops  i'll order that right now handshape. the way m...   \n",
       "111293   bearnadette                                 arizona scaryplace   \n",
       "177306          feel                                 she didn't answer.   \n",
       "1301             tiz                                                wut   \n",
       "135696         zumie  i need more caraway, apples, fine shananigans ...   \n",
       "93847        delanie  any suggestions on how to move on from someone...   \n",
       "42708         rdhoka         :heart_eyes: everyone in the room rightnow   \n",
       "148938          jaws        i have done the important things of the day   \n",
       "37038   carawayseeds                               shut up @reichtangle   \n",
       "29233   carawayseeds  things are okay! i've been trying to figure ou...   \n",
       "\n",
       "        word_count  char_count  \\\n",
       "87957           23         122   \n",
       "111293           2          18   \n",
       "177306           3          18   \n",
       "1301             1           3   \n",
       "135696          10          56   \n",
       "93847           10          50   \n",
       "42708            6          42   \n",
       "148938           9          43   \n",
       "37038            3          20   \n",
       "29233           28         143   \n",
       "\n",
       "                                               clean_text  \n",
       "87957   ill order right handshape way career go would ...  \n",
       "111293                                 arizona scaryplace  \n",
       "177306                                       didnt answer  \n",
       "1301                                                  wut  \n",
       "135696           need caraway apple fine shananigans life  \n",
       "93847                             suggestion move someone  \n",
       "42708                    hearteyes everyone room rightnow  \n",
       "148938                                important thing day  \n",
       "37038                                                shut  \n",
       "29233   thing okay ive try figure shoe pair skirt mine...  "
      ]
     },
     "execution_count": 24,
     "metadata": {},
     "output_type": "execute_result"
    }
   ],
   "source": [
    "test.sample(10)"
   ]
  },
  {
   "cell_type": "markdown",
   "id": "59de3a5c",
   "metadata": {
    "slideshow": {
     "slide_type": "slide"
    }
   },
   "source": [
    "## Rimozione delle stringhe vuote"
   ]
  },
  {
   "cell_type": "markdown",
   "id": "cfc85a0d",
   "metadata": {
    "slideshow": {
     "slide_type": "subslide"
    }
   },
   "source": [
    "Con la pulizia delle stringhe effettuata può accadere che ci siano stringhe con la colonna \"clean_text\" con una stringa vuota. Dato che non viene considerato come NaN non vengono rimosse attraverso la funzione \"dropna\", quindi convertiremo queste stringhe vuote in NaN e poi le rimuoveremo."
   ]
  },
  {
   "cell_type": "code",
   "execution_count": 25,
   "id": "cc2215c5",
   "metadata": {
    "slideshow": {
     "slide_type": "subslide"
    }
   },
   "outputs": [],
   "source": [
    "test['clean_text'].replace('', np.nan,inplace=True)\n",
    "test.dropna(subset=['clean_text'], inplace=True)"
   ]
  },
  {
   "cell_type": "markdown",
   "id": "b90c09ac",
   "metadata": {
    "slideshow": {
     "slide_type": "slide"
    }
   },
   "source": [
    "## Sentiment analysis"
   ]
  },
  {
   "cell_type": "markdown",
   "id": "6b4df752",
   "metadata": {
    "slideshow": {
     "slide_type": "subslide"
    }
   },
   "source": [
    "nltk permette attraverso \"Vader\", ovvero un algoritmo di analisi del sentiment, di effettuare appunto una sentiment analysis.\n",
    "Ci vorrà del tempo prima che la compilazione termini dato che il dataset che stiamo utilizzando ha più di 17k righe."
   ]
  },
  {
   "cell_type": "code",
   "execution_count": 26,
   "id": "a2a86692",
   "metadata": {
    "scrolled": false,
    "slideshow": {
     "slide_type": "subslide"
    }
   },
   "outputs": [],
   "source": [
    "from nltk.sentiment import SentimentIntensityAnalyzer\n",
    "\n",
    "def analyze_sentiment(text):\n",
    "    if isinstance(text,str):\n",
    "        sia = SentimentIntensityAnalyzer()\n",
    "        sentiment_score = sia.polarity_scores(text)['compound']\n",
    "        if sentiment_score >= 0.05:\n",
    "            return 'positivo'\n",
    "        elif sentiment_score <= -0.05:\n",
    "            return 'negativo'\n",
    "        else:\n",
    "            return 'neutro'\n",
    "    else:\n",
    "        return \"neutro\"\n",
    "    \n",
    "test['sentiment'] = test['clean_text'].apply(analyze_sentiment)"
   ]
  },
  {
   "cell_type": "markdown",
   "id": "888ef294",
   "metadata": {
    "slideshow": {
     "slide_type": "subslide"
    }
   },
   "source": [
    "Una volta terminata la compilazione, stampiamo il nome, il testo \"pulito\" e la sentiment di ogni testo."
   ]
  },
  {
   "cell_type": "code",
   "execution_count": 27,
   "id": "89ad41f0",
   "metadata": {
    "slideshow": {
     "slide_type": "subslide"
    }
   },
   "outputs": [
    {
     "name": "stdout",
     "output_type": "stream",
     "text": [
      "                   nome                     clean_text sentiment\n",
      "0                 petal                           make    neutro\n",
      "1                   tiz                           make    neutro\n",
      "2                 petal                give permission    neutro\n",
      "3                   tiz                           idea    neutro\n",
      "4                 petal  anyways explore fill tinychat    neutro\n",
      "...                 ...                            ...       ...\n",
      "183628           awin90     joy joy joy ewoodthemacguy  positivo\n",
      "183629             erik       response mean true right  positivo\n",
      "183630           awin90                         benned    neutro\n",
      "183631             jaws                              b    neutro\n",
      "183632  sharksatemywife                             le    neutro\n",
      "\n",
      "[178278 rows x 3 columns]\n"
     ]
    }
   ],
   "source": [
    "print(test[['nome','clean_text','sentiment']])"
   ]
  },
  {
   "cell_type": "code",
   "execution_count": 28,
   "id": "4e80836a",
   "metadata": {
    "slideshow": {
     "slide_type": "subslide"
    }
   },
   "outputs": [
    {
     "name": "stdout",
     "output_type": "stream",
     "text": [
      "nome\n",
      "012           0.250000\n",
      "1             0.250000\n",
      "1st           0.000000\n",
      "2            -0.111111\n",
      "20            0.000000\n",
      "                ...   \n",
      "zerbrechen    0.071429\n",
      "zero          0.000000\n",
      "zomebies      0.000000\n",
      "zumie         0.080472\n",
      "zy           -1.000000\n",
      "Name: sentiment, Length: 1113, dtype: float64\n"
     ]
    }
   ],
   "source": [
    "import matplotlib.pyplot as plt\n",
    "# Rimuovi righe con valori mancanti nella colonna 'sentiment'\n",
    "test = test.dropna(subset=['sentiment'])\n",
    "\n",
    "# Converti la colonna 'sentiment' in valori numerici (ad esempio, neutro=0, positivo=1, negativo=-1)\n",
    "test['sentiment'] = test['sentiment'].map({'neutro': 0, 'positivo': 1, 'negativo': -1})\n",
    "\n",
    "# Raggruppa per 'nome' e calcola il sentiment medio per ogni utente\n",
    "sentiment_medio_per_utente = test.groupby('nome')['sentiment'].mean()\n",
    "\n",
    "# Visualizza i risultati\n",
    "print(sentiment_medio_per_utente)"
   ]
  },
  {
   "cell_type": "code",
   "execution_count": 30,
   "id": "9a7f75ec",
   "metadata": {
    "slideshow": {
     "slide_type": "slide"
    }
   },
   "outputs": [
    {
     "data": {
      "image/png": "[encoded data removed]",
      "text/plain": [
       "<Figure size 1000x600 with 1 Axes>"
      ]
     },
     "metadata": {},
     "output_type": "display_data"
    }
   ],
   "source": [
    "# Seleziona solo i primi 70 utenti\n",
    "top_70_utenti = sentiment_medio_per_utente.head(70)\n",
    "plt.figure(figsize=(10, 6))\n",
    "top_70_utenti.plot(kind='bar', color='skyblue')\n",
    "plt.title('Media Sentiment per Utente (Top 70)')\n",
    "plt.xlabel('Utente')\n",
    "plt.ylabel('Sentiment Medio')\n",
    "plt.show()"
   ]
  },
  {
   "cell_type": "code",
   "execution_count": 31,
   "id": "a49331c9",
   "metadata": {
    "slideshow": {
     "slide_type": "slide"
    }
   },
   "outputs": [],
   "source": [
    "def summarize_chat(df):\n",
    "    sentences = []\n",
    "    for i in range(len(df)):\n",
    "        # Aggiungi un controllo per verificare se l'indice è presente nel DataFrame\n",
    "        if i in df.index:\n",
    "            sentences.append((df.loc[i, \"nome\"], df.loc[i, \"clean_text\"]))\n",
    "    stop_words = set(stopwords.words(\"english\"))\n",
    "    tokens = []\n",
    "    for sentence in sentences:\n",
    "        tokens.extend([token for token in sentence[1].split() if token not in stop_words])\n",
    "    word_counts = {}\n",
    "    for token in tokens:\n",
    "        if token not in word_counts:\n",
    "            word_counts[token] = 0\n",
    "        word_counts[token] += 1\n",
    "    most_common = sorted(word_counts.items(), key=lambda x: x[1], reverse=True)[:20]\n",
    "    summary = \"\"\n",
    "    for token, count in most_common:\n",
    "        summary += f\"{token}: {count}\\n\"\n",
    "    topics = set()\n",
    "    for token, count in most_common:\n",
    "        tokens = token.split(\"_\")\n",
    "        for t in tokens:\n",
    "            topics.add(t)\n",
    "    return list(topics)"
   ]
  },
  {
   "cell_type": "code",
   "execution_count": 32,
   "id": "47dc34d3",
   "metadata": {
    "slideshow": {
     "slide_type": "subslide"
    }
   },
   "outputs": [
    {
     "name": "stdout",
     "output_type": "stream",
     "text": [
      "['well', 'im', 'yeah', 'want', 'people', 'oh', 'go', 'good', 'think', 'one', 'perpetual', 'thats', 'say', 'know', 'make', 'dont', 'like', 'see', 'time', 'get']\n"
     ]
    }
   ],
   "source": [
    "topics = summarize_chat(test)\n",
    "print(topics)"
   ]
  },
  {
   "cell_type": "code",
   "execution_count": 33,
   "id": "a296139f",
   "metadata": {
    "slideshow": {
     "slide_type": "subslide"
    }
   },
   "outputs": [
    {
     "data": {
      "image/png": "[encoded data removed]",
      "text/plain": [
       "<Figure size 640x480 with 1 Axes>"
      ]
     },
     "metadata": {},
     "output_type": "display_data"
    }
   ],
   "source": [
    "from wordcloud import WordCloud\n",
    "\n",
    "\n",
    "wc = WordCloud(width=1920, height=1024, background_color=\"white\")\n",
    "wc.generate(\" \".join(topics))\n",
    "plt.imshow(wc, interpolation=\"bilinear\")\n",
    "plt.axis(\"off\")\n",
    "plt.title(\"Nuvola di parole dei topic della chat\")\n",
    "plt.show()\n"
   ]
  },
  {
   "cell_type": "code",
   "execution_count": 34,
   "id": "ddd23b2b",
   "metadata": {
    "slideshow": {
     "slide_type": "subslide"
    }
   },
   "outputs": [],
   "source": [
    "# Ottieni le prime 100 frasi dalla colonna 'clean_text'\n",
    "first_100_sentences = test['clean_text'].head(100).tolist()\n",
    "stop_words = set(stopwords.words(\"english\"))\n",
    "# Lista di frasi da valutare\n",
    "sentence_list = first_100_sentences\n",
    "\n",
    "word_frequencies = {}\n",
    "for text in sentence_list:\n",
    "    for word in nltk.word_tokenize(text):\n",
    "        if word.lower() not in stop_words:\n",
    "            if word not in word_frequencies:\n",
    "                word_frequencies[word] = 1\n",
    "            else:\n",
    "                word_frequencies[word] += 1\n"
   ]
  },
  {
   "cell_type": "code",
   "execution_count": 35,
   "id": "c6823ce5",
   "metadata": {
    "slideshow": {
     "slide_type": "subslide"
    }
   },
   "outputs": [],
   "source": [
    "maximum_frequency = max(word_frequencies.values())\n",
    "\n",
    "for word in word_frequencies:\n",
    "    word_frequencies[word] = word_frequencies[word] / maximum_frequency\n",
    "\n",
    "sentence_scores = {}\n",
    "for sentence in sentence_list:\n",
    "    for word in nltk.word_tokenize(sentence.lower()):\n",
    "        if word in word_frequencies:\n",
    "            if len(sentence.split(' ')) < 30:\n",
    "                if sentence not in sentence_scores:\n",
    "                    sentence_scores[sentence] = word_frequencies[word]\n",
    "                else:\n",
    "                    sentence_scores[sentence] += word_frequencies[word]\n"
   ]
  },
  {
   "cell_type": "code",
   "execution_count": 36,
   "id": "0217e552",
   "metadata": {
    "slideshow": {
     "slide_type": "subslide"
    }
   },
   "outputs": [
    {
     "name": "stdout",
     "output_type": "stream",
     "text": [
      "hai pix heart 3 heart heart 3 heart heart 3 heart heart 3 heart boo wee een man set separate server could different room different game wahtever stuff cool set announcement channel mod post everyone read link everything assign role permission yet click name upper right click plus assign role make try assign perm directly tiz oh definitely grab app browser version work pinch desktop version well use mobile version yet usual cc link yeah set mod voice channel let go get app instead browser make sticky know user request discord tc fun think tak set one game sub\n"
     ]
    }
   ],
   "source": [
    "import heapq\n",
    "summary_sentences = heapq.nlargest(7,sentence_scores, key=sentence_scores.get)\n",
    "\n",
    "summary = ' '.join(summary_sentences)\n",
    "print(summary)"
   ]
  }
 ],
 "metadata": {
  "celltoolbar": "Slideshow",
  "kernelspec": {
   "display_name": "Python 3 (ipykernel)",
   "language": "python",
   "name": "python3"
  },
  "language_info": {
   "codemirror_mode": {
    "name": "ipython",
    "version": 3
   },
   "file_extension": ".py",
   "mimetype": "text/x-python",
   "name": "python",
   "nbconvert_exporter": "python",
   "pygments_lexer": "ipython3",
   "version": "3.11.2"
  }
 },
 "nbformat": 4,
 "nbformat_minor": 5
}
