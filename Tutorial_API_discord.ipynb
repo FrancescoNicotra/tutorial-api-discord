{
 "cells": [
  {
   "cell_type": "markdown",
   "id": "6d548016",
   "metadata": {
    "slideshow": {
     "slide_type": "slide"
    }
   },
   "source": [
    "# Tutorial su API di Discord"
   ]
  },
  {
   "cell_type": "markdown",
   "id": "ebc6b200",
   "metadata": {
    "slideshow": {
     "slide_type": "subslide"
    }
   },
   "source": [
    "#### Nome: Francesco Nicotra\n",
    "#### Matricola: 1000001741\n",
    "#### Corso: Social Media Data Analysis\n",
    "#### Docente: Francesco Ragusa\n",
    "#### Anno accademico: 2023/2024"
   ]
  },
  {
   "cell_type": "markdown",
   "id": "29e12f95",
   "metadata": {
    "slideshow": {
     "slide_type": "slide"
    }
   },
   "source": [
    "## Sommario\n",
    "1. **Introduzione** <br/>\n",
    "    <span style=\"padding-left:15px;\">1.1 Presentazione Discord</span><br/>\n",
    "    <span style=\"padding-left:15px;\">1.2 Presentazione canale</span><br/>\n",
    "2. **Discord for Developers**<br/>\n",
    "    <span style=\"padding-left:15px;\">2.1 Richiesta API</span><br/>\n",
    "3. **Esempio richiesta (da vedere)**<br/>\n",
    "    <span style=\"padding-left:15px;\">3.1 Da aggiungere</span><br/>\n",
    "    <span style=\"padding-left:15px;\">3.2 Wrapper</span><br/>\n"
   ]
  },
  {
   "cell_type": "markdown",
   "id": "7a385184",
   "metadata": {
    "slideshow": {
     "slide_type": "subslide"
    }
   },
   "source": [
    "4. **Analisi dei dati**<br/>\n",
    "    <span style=\"padding-left:15px;\">4.1 Analisi </span><br/>\n",
    "    <span style=\"padding-left:15px;\">4.2 Analisi </span><br/>\n",
    "    <span style=\"padding-left:15px;\">4.3 Relazione </span><br/>\n",
    "5. **Conclusioni**"
   ]
  },
  {
   "cell_type": "markdown",
   "id": "cf689ed1",
   "metadata": {
    "slideshow": {
     "slide_type": "slide"
    }
   },
   "source": [
    "## Introduzione\n",
    "Discord è nato per risolvere un grosso problema: come comunicare con gli amici in giro per il mondo mentre si gioca ai giochi online. <br/>\n",
    "Nel 2015 è nasce e fin da subito ha reso più facile comunicare genuinamente con gli amici, oltre la semplice chiacchierata. Gli amici rimanevano in contatto con le loro varie community. Discord rendeva più facile partecipare alle discussioni, alternando liberamente lo scrivere al parlare a voce, con o senza video. La tecnologia era complessa, ma l'obbiettivo era semplice: rendere Discord una casa invitante e confortevole per amici e comunità.\n",
    "<br/><br/>\n",
    "È possibile fare molte cose su discord, tipo: \n",
    "<ul>\n",
    "    <li> Chattare/parlare con amici</li>\n",
    "    <li> Entrare in un server dedicato (es. università)</li>\n",
    "    <li> Fare videochiamate di gruppo con la possibilità di condividere lo schermo</li>\n",
    "    \n",
    "    "
   ]
  },
  {
   "cell_type": "markdown",
   "id": "35479c48",
   "metadata": {
    "slideshow": {
     "slide_type": "subslide"
    }
   },
   "source": [
    "\n",
    "   <ul> <li>Avere dei sottocanali personalizzati all'interno di ogni server, prendendo l'esempio din un server dedicato all'università si possono avere:</li>\n",
    "        <li> Canale solo chat dedicato per ogni singola materia</li>\n",
    "        <li> Canale dove è possibile effettuare solo chiamate e non videochiamate</li>\n",
    "        <li> Canale dove chi non è autorizzato non può neanche entrare, ad esempio il canale dedicato agli amministratori del server</li>\n",
    "        <li> Canale dove è possibile solo leggere il contenuto senza poter rispondere o modificare ciò che si trova scritto al suo interno, ad esempio il canale delle regole del server</li><ul>"
   ]
  },
  {
   "cell_type": "markdown",
   "id": "e41bdd71",
   "metadata": {
    "slideshow": {
     "slide_type": "subslide"
    }
   },
   "source": [
    "## Presentazione sito\n",
    "La home del sito mostra varie opzioni, dal download al carrers, oltre al bottone per utilizzare discord nel browser e al bottone per scaricare discord sulla propria macchina.\n",
    "<center>\n",
    "    <img src=\"./immagini/homepage.png\" alt=\"home\" width='1024px' height='780px'/>\n",
    "</center>"
   ]
  },
  {
   "cell_type": "markdown",
   "id": "81a937c5",
   "metadata": {
    "slideshow": {
     "slide_type": "subslide"
    }
   },
   "source": [
    "\n",
    "Scorrendo verso il basso vengono mostrate alcune funzionalità di discord, ad esempio:\n",
    "<center>\n",
    "    <img src=\"./immagini/funzionalita.png\" alt=\"funzionalità\"/>\n",
    "</center>"
   ]
  },
  {
   "cell_type": "markdown",
   "id": "a7270dc5",
   "metadata": {
    "slideshow": {
     "slide_type": "subslide"
    }
   },
   "source": [
    "## Download discord\n",
    "Una volta cliccato sul bottone per il download, nel mio caso per mac, verrà scaricata l'applicazione di discord.\n",
    "<center>\n",
    "    <img src=\"./immagini/download.png\" alt=\"download\" width='1024px' height='780px'/>\n",
    "    </center>\n",
    "   "
   ]
  },
  {
   "cell_type": "markdown",
   "id": "a6e47a66",
   "metadata": {
    "slideshow": {
     "slide_type": "subslide"
    }
   },
   "source": [
    "## Registrazione su discord\n",
    "Una volta scaricata l'applicazione e avviata verrà visualizzata una schermata dove sarà possibile registrarsi:\n",
    "<center>\n",
    "    <img src=\"./immagini/registrazione.png\" alt=\"registrazione\" width='1024px' height='780px'/>\n",
    "<center/>"
   ]
  },
  {
   "cell_type": "markdown",
   "id": "d328028d",
   "metadata": {
    "slideshow": {
     "slide_type": "subslide"
    }
   },
   "source": [
    "Bisogna confermare l'email ed una volta completato il processo di registrazione si verrà portati alla schermata principale di discord, dove è possibile personalizzare la propria applicazione, unirsi ai canali, mandare richieste di amicizia ad altri utenti.\n",
    "<center> \n",
    "    <img src=\"./immagini/applicazione.png\" alt=\"applicazione\" width='1024px' height='780px'/>\n",
    "    <center/>"
   ]
  },
  {
   "cell_type": "markdown",
   "id": "00018fdc",
   "metadata": {
    "slideshow": {
     "slide_type": "slide"
    }
   },
   "source": [
    "## Discord for developers"
   ]
  },
  {
   "cell_type": "markdown",
   "id": "1b22790b",
   "metadata": {
    "slideshow": {
     "slide_type": "subslide"
    }
   },
   "source": [
    "### Operazioni preliminari\n",
    "Bisogna creare un server, che verrà utilizzato per testare le API. <br> Quindi apriamo l'app di Discord scaricata in precedenza e creaiamo il nostro server come mostrato nelle successive slide."
   ]
  },
  {
   "cell_type": "markdown",
   "id": "41e262d5",
   "metadata": {
    "slideshow": {
     "slide_type": "subslide"
    }
   },
   "source": [
    "Cliccare sul bottone con il simbolo \"+\"<center><img src=\"./immagini/aggiuntaServer.png\" alt=\"aggiungi server\" width='1024px' height='780px'/></center>"
   ]
  },
  {
   "cell_type": "markdown",
   "id": "c8e0642f",
   "metadata": {
    "slideshow": {
     "slide_type": "subslide"
    }
   },
   "source": [
    "\n",
    "<center><img src=\"./immagini/creazioneServer.png\" alt=\"creazione server\" width='1024px' height='780px'/></center>"
   ]
  },
  {
   "cell_type": "markdown",
   "id": "f2a8fae8",
   "metadata": {
    "slideshow": {
     "slide_type": "subslide"
    }
   },
   "source": [
    "In questa finestra si può scegliere un template creato da discord, oppure crearne uno personalizzato. In questo tutorial ne creeremo uno personalizzato, quindi clicchiamo sul bottone, <b>crea personalizzato</b>, ci verrà chiesto se è destinato ad un uso <b>\"per me e i miei amici\"</b> oppure <b>\"per un club o una comunity\"</b>, qui cliccheremo sul primo bottone. Arrivati a questo punto daremo un nome a scelta al nostro server e il gioco è fatto. "
   ]
  },
  {
   "cell_type": "markdown",
   "id": "b80f1dfe",
   "metadata": {
    "slideshow": {
     "slide_type": "subslide"
    }
   },
   "source": [
    "Discord mette a disposizione delle API con diverse funzionalità, ad esempio:\n",
    "<ul>\n",
    "    <li>Interagire con gli utenti aggiungendo comandi per creare esperienze coinvolgenti.</li>\n",
    "    <li>Personalizzare il server di cui si hanno le autorizzazioni necessarie</li>\n",
    "    <li>Collegare e aggiornare i metadati per migliorare discord per gli utenti</li>\n",
    "</ul><br>\n",
    "Per poter utilizzare le API, però, bisogna nuovamente registrarsi stavolta alla piattaforma per sviluppatori. Basta seguire il seguente link <a href=\"https://discord.com/developers/docs/intro\"> Discord for Developers</a>"
   ]
  },
  {
   "cell_type": "markdown",
   "id": "b1898038",
   "metadata": {
    "slideshow": {
     "slide_type": "subslide"
    }
   },
   "source": [
    "Ci si ritroverà in una pagina del genere:\n",
    "<center><img src=\"./immagini/discordDev.png\" alt=\"developers\" width='1024px' height='780px'/></center>"
   ]
  },
  {
   "cell_type": "markdown",
   "id": "9e84c521",
   "metadata": {
    "slideshow": {
     "slide_type": "subslide"
    }
   },
   "source": [
    "Questa è una pagina di introduzione alle API di discord, per poter creare la nostra applicazione e quindi utilizzare le API bisogna scendere fino alla fine della pagina e bisogna cliccare sul link evidenziato:\n",
    "<center>\n",
    "<img src='./immagini/discordApp.png' alt='app' width='1024px' height='780px' /></center>"
   ]
  },
  {
   "cell_type": "markdown",
   "id": "cc2f3d48",
   "metadata": {
    "slideshow": {
     "slide_type": "subslide"
    }
   },
   "source": [
    "Verrà richiesto nuovamente di effettuare l'accesso, una volta effettuato si presenterà questa schermata:\n",
    "<center><img src='./immagini/schermataApp.png' alt='schermataApp' width='1024px' height='780px'/></center>"
   ]
  },
  {
   "cell_type": "markdown",
   "id": "714edb5e",
   "metadata": {
    "slideshow": {
     "slide_type": "subslide"
    }
   },
   "source": [
    "Bisogna cliccare sul bottone \"New Application\" in alto a destra, e si aprirà un modale dove si dovrà inserire il nome dell'applicazione appunto. <br>\n",
    "Una volta inserito il nome nella sezione \"My Applications\" comparirà l'applicazione con il nome scelto. Se ci si clicca si passerà alla schermata dell'applicazione, che apparirà come segue:"
   ]
  },
  {
   "cell_type": "markdown",
   "id": "c79b9d1b",
   "metadata": {
    "slideshow": {
     "slide_type": "subslide"
    }
   },
   "source": [
    "<center><img src='./immagini/appInfo.png' alt='schermata info app' width='1024px' height='780px'/></center>"
   ]
  },
  {
   "cell_type": "markdown",
   "id": "1345760a",
   "metadata": {
    "slideshow": {
     "slide_type": "subslide"
    }
   },
   "source": [
    "### Fai attenzione a non mostrare l'APPLICATION ID e la PUBLIC KEY!"
   ]
  },
  {
   "cell_type": "markdown",
   "id": "570ac604",
   "metadata": {
    "slideshow": {
     "slide_type": "slide"
    }
   },
   "source": [
    "## Primi passi"
   ]
  },
  {
   "cell_type": "markdown",
   "id": "1e5448c6",
   "metadata": {
    "slideshow": {
     "slide_type": "subslide"
    }
   },
   "source": [
    "Clicca su OAuth2 per passare alla schermata per le autorizzazioni all'applicazione<center><img src=\"./immagini/OAuth2Click.png\" alt='scherma click OAuth2' width='1024px' height='780px'/></center>"
   ]
  },
  {
   "cell_type": "markdown",
   "id": "447a2297",
   "metadata": {
    "slideshow": {
     "slide_type": "subslide"
    }
   },
   "source": [
    "Una volta cliccato il bottone verrà mostrata una pagina dove verrà mostrato il <b>CLIENT ID</b>. <br> Questa sarà la pagina principale di <b>OAuth2</b>, come si può notare la sezione è divisa in due pagine:\n",
    "<ul> <li> General</li><li>URL Generator</li></ul><br>\n",
    "quella che interessa a noi è la seconda, adesso bisogna cliccare su <b>URL Generator</b>"
   ]
  },
  {
   "cell_type": "markdown",
   "id": "4506b64c",
   "metadata": {
    "slideshow": {
     "slide_type": "subslide"
    }
   },
   "source": [
    "Selezionare dalla tabella Bot e in quanto amministratori, quindi il bot deve poter eseguire tutte le operazioni, gli daremo i permessi da amministratore. Ovviamente questa scelta cambia in base alle necessità.\n",
    "<center><img src=\"./immagini/OAuthPage.png\" alt='scherm click OAuth2' width='1024px' height='780px'/></center>"
   ]
  },
  {
   "cell_type": "markdown",
   "id": "618e583b",
   "metadata": {
    "slideshow": {
     "slide_type": "subslide"
    }
   },
   "source": [
    "Scrollando verso il basso una volta selezionato lo scopo e i permessi troveremo un link\n",
    "<center><img src=\"./immagini/urlBot.png\" alt='scherm click OAuth2' width='1024px' height='780px'/></center>"
   ]
  },
  {
   "cell_type": "markdown",
   "id": "f66091f5",
   "metadata": {
    "slideshow": {
     "slide_type": "subslide"
    }
   },
   "source": [
    "Basta copiare questo link e incollarlo nel nostro browser in una finestra\n",
    "<center><img src=\"./immagini/addBot.png\" alt='scherm click OAuth2' width='1024px' height='780px'/></center>"
   ]
  },
  {
   "cell_type": "markdown",
   "id": "721f9f3d",
   "metadata": {
    "slideshow": {
     "slide_type": "subslide"
    }
   },
   "source": [
    "Una volta in questa pagina bisogna scegliere il server dal menù a tendina con la voce <b>\"AGGIUNGI AL SERVER\"</b>, poi cliccare sul tasto continua e seguire la procedera seguendo le indicazioni. <br> Una volta terminata vi ritroverete all'interno del vostro server con il bot al suo interno."
   ]
  },
  {
   "cell_type": "code",
   "execution_count": 2,
   "id": "facccf1a",
   "metadata": {},
   "outputs": [],
   "source": [
    "import requests\n",
    "\n",
    "\n",
    "url = \"https://discord.com/api/v10/applications/<application id>/commands/<command id>\"\n",
    "\n",
    "# This is an example CHAT_INPUT or Slash Command, with a type of 1\n",
    "json = {\n",
    "    \"name\": \"provolone\",\n",
    "    \"type\": 3,\n",
    "    \"description\": \"prova per capire a cosa serve il tipo 3\",\n",
    "    \"options\": [\n",
    "        {\n",
    "            \"name\": \"animale\",\n",
    "            \"description\": \"The type of animal\",\n",
    "            \"type\": 3,\n",
    "            \"required\": True,\n",
    "            \"choices\": [\n",
    "                {\n",
    "                    \"name\": \"Dog\",\n",
    "                    \"value\": \"animal_dog\"\n",
    "                },\n",
    "                {\n",
    "                    \"name\": \"Cat\",\n",
    "                    \"value\": \"animal_cat\"\n",
    "                },\n",
    "                {\n",
    "                    \"name\": \"Penguin\",\n",
    "                    \"value\": \"animal_penguin\"\n",
    "                }\n",
    "            ]\n",
    "        },\n",
    "        {\n",
    "            \"name\": \"provolone\",\n",
    "            \"description\": \"descrizione della seconda opzione\",\n",
    "            \"type\": 5,\n",
    "            \"required\": False\n",
    "        }\n",
    "    ]\n",
    "}\n",
    "\n",
    "# For authorization, you can use either your bot token\n",
    "headers = {\n",
    "    \"Authorization\": \"Bot <your token>\"\n",
    "}\n",
    "\n",
    "\n",
    "r = requests.post(url, headers=headers, json=json)"
   ]
  },
  {
   "cell_type": "markdown",
   "id": "46d9f964",
   "metadata": {
    "slideshow": {
     "slide_type": "slide"
    }
   },
   "source": [
    "## Operazioni dataset discord"
   ]
  },
  {
   "cell_type": "markdown",
   "id": "db43c92f",
   "metadata": {
    "slideshow": {
     "slide_type": "subslide"
    }
   },
   "source": [
    "Dato che nel server discord appena creato non si hanno abbastanza dati su cui lavorare scaricheremo un dataset dove al suo interno saranno presenti chat di altri server sotto forma di file testo. <br>\n",
    "Per scaricare il dataset basta seguire il link: <a href=\"https://www.kaggle.com/datasets/jef1056/discord-data\">dataset</a>"
   ]
  },
  {
   "cell_type": "markdown",
   "id": "dee0e504",
   "metadata": {
    "slideshow": {
     "slide_type": "slide"
    }
   },
   "source": [
    "### Com'è formato il dataset?"
   ]
  },
  {
   "cell_type": "markdown",
   "id": "e790b400",
   "metadata": {
    "slideshow": {
     "slide_type": "subslide"
    }
   },
   "source": [
    "Il dataset è formato da diverse cartelle dove al suo interno troveremo tre versioni V1, V2 e V3. Non ci sono delle vere e proprie differenze ma ogni versione contiene conversazioni diverse. Ognuna di esse è stata pulita, tramite regex di alcune frasi, ma come potremo notare in seguito avranno bisogno di ulteriori pulizie."
   ]
  },
  {
   "cell_type": "markdown",
   "id": "9d5525f4",
   "metadata": {
    "slideshow": {
     "slide_type": "subslide"
    }
   },
   "source": [
    "Una volta scaricato il dataset salvarlo all'interno della cartella sulla quale si sta lavorando"
   ]
  },
  {
   "cell_type": "markdown",
   "id": "141d927f",
   "metadata": {
    "slideshow": {
     "slide_type": "subslide"
    }
   },
   "source": [
    "### Importiamo le librerie che ci serviranno"
   ]
  },
  {
   "cell_type": "code",
   "execution_count": 1,
   "id": "59b22685",
   "metadata": {
    "slideshow": {
     "slide_type": "subslide"
    }
   },
   "outputs": [
    {
     "name": "stderr",
     "output_type": "stream",
     "text": [
      "[nltk_data] Downloading package punkt to\n",
      "[nltk_data]     /Users/francesconicotra/nltk_data...\n",
      "[nltk_data]   Package punkt is already up-to-date!\n",
      "[nltk_data] Downloading package averaged_perceptron_tagger to\n",
      "[nltk_data]     /Users/francesconicotra/nltk_data...\n",
      "[nltk_data]   Package averaged_perceptron_tagger is already up-to-\n",
      "[nltk_data]       date!\n",
      "[nltk_data] Downloading package wordnet to\n",
      "[nltk_data]     /Users/francesconicotra/nltk_data...\n",
      "[nltk_data]   Package wordnet is already up-to-date!\n",
      "[nltk_data] Downloading package vader_lexicon to\n",
      "[nltk_data]     /Users/francesconicotra/nltk_data...\n",
      "[nltk_data]   Package vader_lexicon is already up-to-date!\n",
      "[nltk_data] Downloading package stopwords to\n",
      "[nltk_data]     /Users/francesconicotra/nltk_data...\n",
      "[nltk_data]   Package stopwords is already up-to-date!\n"
     ]
    },
    {
     "data": {
      "text/plain": [
       "True"
      ]
     },
     "execution_count": 1,
     "metadata": {},
     "output_type": "execute_result"
    }
   ],
   "source": [
    "import pandas as pd\n",
    "import csv\n",
    "#for text pre-processing\n",
    "import re, string\n",
    "import nltk\n",
    "from nltk.tokenize import word_tokenize\n",
    "from nltk.corpus import stopwords\n",
    "from nltk.tokenize import word_tokenize\n",
    "from nltk.stem import SnowballStemmer\n",
    "from nltk.corpus import wordnet\n",
    "from nltk.stem import WordNetLemmatizer\n",
    "nltk.download('punkt')\n",
    "nltk.download('averaged_perceptron_tagger')\n",
    "nltk.download('wordnet')\n",
    "nltk.download('vader_lexicon')\n",
    "nltk.download('stopwords')"
   ]
  },
  {
   "cell_type": "markdown",
   "id": "bef5393a",
   "metadata": {
    "slideshow": {
     "slide_type": "slide"
    }
   },
   "source": [
    "## Creaiamo il nostro csv"
   ]
  },
  {
   "cell_type": "markdown",
   "id": "9edeb47d",
   "metadata": {
    "slideshow": {
     "slide_type": "subslide"
    }
   },
   "source": [
    "Il codice che segue crea una csv con due colonne (nome, testo) in quanto come si può notare dall'immagine tutti i file di testo con le chat saranno composti in questo modo \"nome utente: testo\"<br>\n",
    "<center><img src='./immagini/formatotesto.png' alt='formato del testo' width='1024px' height='780px'/></center>"
   ]
  },
  {
   "cell_type": "code",
   "execution_count": 2,
   "id": "5715e63d",
   "metadata": {
    "slideshow": {
     "slide_type": "subslide"
    }
   },
   "outputs": [],
   "source": [
    "path = \"archive/v2/content/drive/Shareddrives/Datasets/cleaned-v4/discord-v2/[257751892241809408].txt\"\n",
    "\n",
    "# Leggi il contenuto del file\n",
    "with open(path, 'r', encoding='utf-8') as file:\n",
    "    content = file.read()\n",
    "\n",
    "# Sostituisci manualmente il \"\\n\" con un vero a capo\n",
    "content = content.replace(\"\\\\n\", \"\\n\")\n",
    "\n",
    "# Trova corrispondenze di \"nome: testo\" in ogni riga\n",
    "matches = re.findall(r'(\\w+): (.+?)(?=\\s\\w+:|$)', content, flags=re.DOTALL)\n",
    "\n",
    "# Scrivi i risultati in un file CSV\n",
    "with open('dataset.csv', 'w', newline='', encoding='utf-8') as csvfile:\n",
    "    csv_writer = csv.writer(csvfile)\n",
    "    csv_writer.writerow(['nome', 'testo'])\n",
    "    for match in matches:\n",
    "        row = [match[0], match[1].replace(\"\\n\", \" \")]  # Sostituisci il \"\\n\" con uno spazio\n",
    "        csv_writer.writerow(row)\n"
   ]
  },
  {
   "cell_type": "markdown",
   "id": "76ade2f5",
   "metadata": {
    "slideshow": {
     "slide_type": "subslide"
    }
   },
   "source": [
    "### Leggiamo il nostro csv"
   ]
  },
  {
   "cell_type": "markdown",
   "id": "dda346d7",
   "metadata": {
    "slideshow": {
     "slide_type": "subslide"
    }
   },
   "source": [
    "Una volta creato il nostro csv, lo salveremo in una variabile in questo caso chiamata 'test' e lo stamperemo per vedere se è stato creato correttamente."
   ]
  },
  {
   "cell_type": "code",
   "execution_count": 3,
   "id": "1d4118e7",
   "metadata": {
    "slideshow": {
     "slide_type": "subslide"
    }
   },
   "outputs": [
    {
     "name": "stdout",
     "output_type": "stream",
     "text": [
      "          nome      testo\n",
      "0        Fours     hello!\n",
      "1  kinesthetic     Firsat\n",
      "2        Fours  HA LMAOOO\n",
      "3  kinesthetic          I\n",
      "4        Fours         GG\n"
     ]
    }
   ],
   "source": [
    "test = pd.read_csv(\"./dataset.csv\")\n",
    "print(test.head())"
   ]
  },
  {
   "cell_type": "markdown",
   "id": "bbe580ef",
   "metadata": {
    "slideshow": {
     "slide_type": "slide"
    }
   },
   "source": [
    "## Primi test"
   ]
  },
  {
   "cell_type": "markdown",
   "id": "633dad0b",
   "metadata": {
    "slideshow": {
     "slide_type": "subslide"
    }
   },
   "source": [
    "Una delle prime prove che mi viene in mente da poter fare è quella di contare la media della parole e dei caratteri in ogni frase"
   ]
  },
  {
   "cell_type": "code",
   "execution_count": 4,
   "id": "1c16e3e7",
   "metadata": {
    "slideshow": {
     "slide_type": "subslide"
    }
   },
   "outputs": [
    {
     "name": "stdout",
     "output_type": "stream",
     "text": [
      "media parole: 6.374700125018302\n",
      "media caratteri: 30.777107008908963\n"
     ]
    }
   ],
   "source": [
    "#media parole e caratteri per frase\n",
    "test['word_count'] = test['testo'].apply(lambda x: len(str(x).split()))\n",
    "test['char_count'] = test['testo'].apply(lambda x: len(str(x)))\n",
    "print(f\"media parole: {test['word_count'].mean()}\")\n",
    "print(f\"media caratteri: {test['char_count'].mean()}\")"
   ]
  },
  {
   "cell_type": "markdown",
   "id": "b048aabc",
   "metadata": {
    "slideshow": {
     "slide_type": "slide"
    }
   },
   "source": [
    "## Pulizia stringhe"
   ]
  },
  {
   "cell_type": "markdown",
   "id": "c1bf9169",
   "metadata": {
    "slideshow": {
     "slide_type": "subslide"
    }
   },
   "source": [
    "Per iniziare e rendere il tutto più semplice trasformeremo tutte le stringhe in lowercase"
   ]
  },
  {
   "cell_type": "code",
   "execution_count": 5,
   "id": "7b0a1466",
   "metadata": {
    "slideshow": {
     "slide_type": "subslide"
    }
   },
   "outputs": [],
   "source": [
    "test['nome'] = test['nome'].apply(lambda x: str.lower(x) if pd.isna(x) != True else x)\n",
    "test['testo'] = test['testo'].apply(lambda x: str.lower(x) if pd.isna(x) != True else x)\n",
    "test['clean_text'] = test['testo'].apply(lambda x: str.lower(x) if pd.isna(x) != True else x)"
   ]
  },
  {
   "cell_type": "code",
   "execution_count": 6,
   "id": "157a3ada",
   "metadata": {
    "slideshow": {
     "slide_type": "subslide"
    }
   },
   "outputs": [
    {
     "data": {
      "text/html": [
       "<div>\n",
       "<style scoped>\n",
       "    .dataframe tbody tr th:only-of-type {\n",
       "        vertical-align: middle;\n",
       "    }\n",
       "\n",
       "    .dataframe tbody tr th {\n",
       "        vertical-align: top;\n",
       "    }\n",
       "\n",
       "    .dataframe thead th {\n",
       "        text-align: right;\n",
       "    }\n",
       "</style>\n",
       "<table border=\"1\" class=\"dataframe\">\n",
       "  <thead>\n",
       "    <tr style=\"text-align: right;\">\n",
       "      <th></th>\n",
       "      <th>nome</th>\n",
       "      <th>testo</th>\n",
       "      <th>word_count</th>\n",
       "      <th>char_count</th>\n",
       "      <th>clean_text</th>\n",
       "    </tr>\n",
       "  </thead>\n",
       "  <tbody>\n",
       "    <tr>\n",
       "      <th>141986</th>\n",
       "      <td>kore</td>\n",
       "      <td>total darkness</td>\n",
       "      <td>2</td>\n",
       "      <td>14</td>\n",
       "      <td>total darkness</td>\n",
       "    </tr>\n",
       "    <tr>\n",
       "      <th>109977</th>\n",
       "      <td>kore</td>\n",
       "      <td>ohhh i see</td>\n",
       "      <td>3</td>\n",
       "      <td>10</td>\n",
       "      <td>ohhh i see</td>\n",
       "    </tr>\n",
       "    <tr>\n",
       "      <th>113301</th>\n",
       "      <td>goumirane</td>\n",
       "      <td>how</td>\n",
       "      <td>1</td>\n",
       "      <td>3</td>\n",
       "      <td>how</td>\n",
       "    </tr>\n",
       "    <tr>\n",
       "      <th>106427</th>\n",
       "      <td>hanges</td>\n",
       "      <td>boom</td>\n",
       "      <td>1</td>\n",
       "      <td>4</td>\n",
       "      <td>boom</td>\n",
       "    </tr>\n",
       "    <tr>\n",
       "      <th>27698</th>\n",
       "      <td>alexxs</td>\n",
       "      <td>6 2 what\\tashe</td>\n",
       "      <td>4</td>\n",
       "      <td>13</td>\n",
       "      <td>6 2 what\\tashe</td>\n",
       "    </tr>\n",
       "    <tr>\n",
       "      <th>108658</th>\n",
       "      <td>nat</td>\n",
       "      <td>and you can get like 50 for cheap</td>\n",
       "      <td>8</td>\n",
       "      <td>33</td>\n",
       "      <td>and you can get like 50 for cheap</td>\n",
       "    </tr>\n",
       "    <tr>\n",
       "      <th>137986</th>\n",
       "      <td>roza</td>\n",
       "      <td>coffee consumer</td>\n",
       "      <td>2</td>\n",
       "      <td>15</td>\n",
       "      <td>coffee consumer</td>\n",
       "    </tr>\n",
       "    <tr>\n",
       "      <th>121941</th>\n",
       "      <td>nat</td>\n",
       "      <td>i never got allergies until this year and omg</td>\n",
       "      <td>9</td>\n",
       "      <td>45</td>\n",
       "      <td>i never got allergies until this year and omg</td>\n",
       "    </tr>\n",
       "    <tr>\n",
       "      <th>95193</th>\n",
       "      <td>macky</td>\n",
       "      <td>hello</td>\n",
       "      <td>1</td>\n",
       "      <td>5</td>\n",
       "      <td>hello</td>\n",
       "    </tr>\n",
       "    <tr>\n",
       "      <th>71769</th>\n",
       "      <td>explosivekitten</td>\n",
       "      <td>oh nice</td>\n",
       "      <td>2</td>\n",
       "      <td>7</td>\n",
       "      <td>oh nice</td>\n",
       "    </tr>\n",
       "  </tbody>\n",
       "</table>\n",
       "</div>"
      ],
      "text/plain": [
       "                   nome                                          testo  \\\n",
       "141986             kore                                 total darkness   \n",
       "109977             kore                                     ohhh i see   \n",
       "113301        goumirane                                            how   \n",
       "106427           hanges                                           boom   \n",
       "27698            alexxs                                 6 2 what\\tashe   \n",
       "108658              nat              and you can get like 50 for cheap   \n",
       "137986             roza                                coffee consumer   \n",
       "121941              nat  i never got allergies until this year and omg   \n",
       "95193             macky                                          hello   \n",
       "71769   explosivekitten                                        oh nice   \n",
       "\n",
       "        word_count  char_count                                     clean_text  \n",
       "141986           2          14                                 total darkness  \n",
       "109977           3          10                                     ohhh i see  \n",
       "113301           1           3                                            how  \n",
       "106427           1           4                                           boom  \n",
       "27698            4          13                                 6 2 what\\tashe  \n",
       "108658           8          33              and you can get like 50 for cheap  \n",
       "137986           2          15                                coffee consumer  \n",
       "121941           9          45  i never got allergies until this year and omg  \n",
       "95193            1           5                                          hello  \n",
       "71769            2           7                                        oh nice  "
      ]
     },
     "execution_count": 6,
     "metadata": {},
     "output_type": "execute_result"
    }
   ],
   "source": [
    "test.sample(10)"
   ]
  },
  {
   "cell_type": "markdown",
   "id": "576d80e3",
   "metadata": {
    "slideshow": {
     "slide_type": "subslide"
    }
   },
   "source": [
    "### Rimozione link"
   ]
  },
  {
   "cell_type": "markdown",
   "id": "04da919a",
   "metadata": {
    "slideshow": {
     "slide_type": "subslide"
    }
   },
   "source": [
    "Dato che i link non ci interessano per questo tutorial attraverso una regex li rimuoveremo."
   ]
  },
  {
   "cell_type": "code",
   "execution_count": 7,
   "id": "c254e2da",
   "metadata": {
    "slideshow": {
     "slide_type": "subslide"
    }
   },
   "outputs": [],
   "source": [
    "test['clean_text'] = test['clean_text'].apply(lambda x: re.sub(r'http\\S+|www\\S+','',x) if pd.isna(x) != True else x)"
   ]
  },
  {
   "cell_type": "code",
   "execution_count": 8,
   "id": "4700e628",
   "metadata": {
    "slideshow": {
     "slide_type": "subslide"
    }
   },
   "outputs": [
    {
     "data": {
      "text/html": [
       "<div>\n",
       "<style scoped>\n",
       "    .dataframe tbody tr th:only-of-type {\n",
       "        vertical-align: middle;\n",
       "    }\n",
       "\n",
       "    .dataframe tbody tr th {\n",
       "        vertical-align: top;\n",
       "    }\n",
       "\n",
       "    .dataframe thead th {\n",
       "        text-align: right;\n",
       "    }\n",
       "</style>\n",
       "<table border=\"1\" class=\"dataframe\">\n",
       "  <thead>\n",
       "    <tr style=\"text-align: right;\">\n",
       "      <th></th>\n",
       "      <th>nome</th>\n",
       "      <th>testo</th>\n",
       "      <th>word_count</th>\n",
       "      <th>char_count</th>\n",
       "      <th>clean_text</th>\n",
       "    </tr>\n",
       "  </thead>\n",
       "  <tbody>\n",
       "    <tr>\n",
       "      <th>162904</th>\n",
       "      <td>sesch</td>\n",
       "      <td>hmm\\tae : really?</td>\n",
       "      <td>4</td>\n",
       "      <td>16</td>\n",
       "      <td>hmm\\tae : really?</td>\n",
       "    </tr>\n",
       "    <tr>\n",
       "      <th>59404</th>\n",
       "      <td>willard</td>\n",
       "      <td>with meh fam</td>\n",
       "      <td>3</td>\n",
       "      <td>12</td>\n",
       "      <td>with meh fam</td>\n",
       "    </tr>\n",
       "    <tr>\n",
       "      <th>58266</th>\n",
       "      <td>elise</td>\n",
       "      <td>i pushed my brother into a wall and then i fel...</td>\n",
       "      <td>14</td>\n",
       "      <td>60</td>\n",
       "      <td>i pushed my brother into a wall and then i fel...</td>\n",
       "    </tr>\n",
       "    <tr>\n",
       "      <th>14103</th>\n",
       "      <td>megumi</td>\n",
       "      <td>no please no wait yes take fucking johnny</td>\n",
       "      <td>8</td>\n",
       "      <td>41</td>\n",
       "      <td>no please no wait yes take fucking johnny</td>\n",
       "    </tr>\n",
       "    <tr>\n",
       "      <th>11842</th>\n",
       "      <td>grandpiano</td>\n",
       "      <td>:</td>\n",
       "      <td>1</td>\n",
       "      <td>1</td>\n",
       "      <td>:</td>\n",
       "    </tr>\n",
       "    <tr>\n",
       "      <th>18229</th>\n",
       "      <td>grandpiano</td>\n",
       "      <td>yes please</td>\n",
       "      <td>2</td>\n",
       "      <td>10</td>\n",
       "      <td>yes please</td>\n",
       "    </tr>\n",
       "    <tr>\n",
       "      <th>47951</th>\n",
       "      <td>happyomg</td>\n",
       "      <td>pre pickle, tomato, green pepper</td>\n",
       "      <td>5</td>\n",
       "      <td>32</td>\n",
       "      <td>pre pickle, tomato, green pepper</td>\n",
       "    </tr>\n",
       "    <tr>\n",
       "      <th>44165</th>\n",
       "      <td>racenol</td>\n",
       "      <td>tsk tsk</td>\n",
       "      <td>2</td>\n",
       "      <td>7</td>\n",
       "      <td>tsk tsk</td>\n",
       "    </tr>\n",
       "    <tr>\n",
       "      <th>5492</th>\n",
       "      <td>duffy</td>\n",
       "      <td>ive already seen a video of snakes biting into...</td>\n",
       "      <td>10</td>\n",
       "      <td>53</td>\n",
       "      <td>ive already seen a video of snakes biting into...</td>\n",
       "    </tr>\n",
       "    <tr>\n",
       "      <th>122908</th>\n",
       "      <td>light</td>\n",
       "      <td>hug @hanges join us!\\tashe</td>\n",
       "      <td>5</td>\n",
       "      <td>25</td>\n",
       "      <td>hug @hanges join us!\\tashe</td>\n",
       "    </tr>\n",
       "  </tbody>\n",
       "</table>\n",
       "</div>"
      ],
      "text/plain": [
       "              nome                                              testo  \\\n",
       "162904       sesch                                  hmm\\tae : really?   \n",
       "59404      willard                                       with meh fam   \n",
       "58266        elise  i pushed my brother into a wall and then i fel...   \n",
       "14103       megumi          no please no wait yes take fucking johnny   \n",
       "11842   grandpiano                                                  :   \n",
       "18229   grandpiano                                         yes please   \n",
       "47951     happyomg                   pre pickle, tomato, green pepper   \n",
       "44165      racenol                                            tsk tsk   \n",
       "5492         duffy  ive already seen a video of snakes biting into...   \n",
       "122908       light                         hug @hanges join us!\\tashe   \n",
       "\n",
       "        word_count  char_count  \\\n",
       "162904           4          16   \n",
       "59404            3          12   \n",
       "58266           14          60   \n",
       "14103            8          41   \n",
       "11842            1           1   \n",
       "18229            2          10   \n",
       "47951            5          32   \n",
       "44165            2           7   \n",
       "5492            10          53   \n",
       "122908           5          25   \n",
       "\n",
       "                                               clean_text  \n",
       "162904                                  hmm\\tae : really?  \n",
       "59404                                        with meh fam  \n",
       "58266   i pushed my brother into a wall and then i fel...  \n",
       "14103           no please no wait yes take fucking johnny  \n",
       "11842                                                   :  \n",
       "18229                                          yes please  \n",
       "47951                    pre pickle, tomato, green pepper  \n",
       "44165                                             tsk tsk  \n",
       "5492    ive already seen a video of snakes biting into...  \n",
       "122908                         hug @hanges join us!\\tashe  "
      ]
     },
     "execution_count": 8,
     "metadata": {},
     "output_type": "execute_result"
    }
   ],
   "source": [
    "test.sample(10)"
   ]
  },
  {
   "cell_type": "markdown",
   "id": "404fd7b8",
   "metadata": {
    "slideshow": {
     "slide_type": "subslide"
    }
   },
   "source": [
    "### Rimozione entità"
   ]
  },
  {
   "cell_type": "markdown",
   "id": "49ad5a9d",
   "metadata": {
    "slideshow": {
     "slide_type": "subslide"
    }
   },
   "source": [
    "Dato che discord dà la possibilità di menzionare altri utenti attraverso \"@\" e di menzionare altri canali presenti all'interno del server attraverso \"#\", rimuovemero queste menzioni."
   ]
  },
  {
   "cell_type": "code",
   "execution_count": 9,
   "id": "7ceff202",
   "metadata": {
    "slideshow": {
     "slide_type": "subslide"
    }
   },
   "outputs": [],
   "source": [
    "def remove_entities(text):\n",
    "    entity_prefixes = ['@', '#']\n",
    "    for separator in string.punctuation:\n",
    "        if separator not in entity_prefixes:\n",
    "            text = text.replace(separator, '')\n",
    "    words = []\n",
    "    for word in text.split():\n",
    "        word = word.strip()\n",
    "        if word:\n",
    "            if word[0] not in entity_prefixes:\n",
    "                words.append(word)\n",
    "    return ' '.join(words)"
   ]
  },
  {
   "cell_type": "code",
   "execution_count": 10,
   "id": "949e30d2",
   "metadata": {
    "slideshow": {
     "slide_type": "subslide"
    }
   },
   "outputs": [],
   "source": [
    "test['clean_text'] = test['clean_text'].apply(lambda x: remove_entities(x) if pd.isna(x) != True else x)"
   ]
  },
  {
   "cell_type": "code",
   "execution_count": 11,
   "id": "64fa43c0",
   "metadata": {
    "slideshow": {
     "slide_type": "subslide"
    }
   },
   "outputs": [
    {
     "data": {
      "text/html": [
       "<div>\n",
       "<style scoped>\n",
       "    .dataframe tbody tr th:only-of-type {\n",
       "        vertical-align: middle;\n",
       "    }\n",
       "\n",
       "    .dataframe tbody tr th {\n",
       "        vertical-align: top;\n",
       "    }\n",
       "\n",
       "    .dataframe thead th {\n",
       "        text-align: right;\n",
       "    }\n",
       "</style>\n",
       "<table border=\"1\" class=\"dataframe\">\n",
       "  <thead>\n",
       "    <tr style=\"text-align: right;\">\n",
       "      <th></th>\n",
       "      <th>nome</th>\n",
       "      <th>testo</th>\n",
       "      <th>word_count</th>\n",
       "      <th>char_count</th>\n",
       "      <th>clean_text</th>\n",
       "    </tr>\n",
       "  </thead>\n",
       "  <tbody>\n",
       "    <tr>\n",
       "      <th>36714</th>\n",
       "      <td>kate</td>\n",
       "      <td>your warnings aren't doing anything honestly...</td>\n",
       "      <td>6</td>\n",
       "      <td>47</td>\n",
       "      <td>your warnings arent doing anything honestly</td>\n",
       "    </tr>\n",
       "    <tr>\n",
       "      <th>118594</th>\n",
       "      <td>piecks</td>\n",
       "      <td>do the support command in deletedchannel and t...</td>\n",
       "      <td>19</td>\n",
       "      <td>98</td>\n",
       "      <td>do the support command in deletedchannel and t...</td>\n",
       "    </tr>\n",
       "    <tr>\n",
       "      <th>74093</th>\n",
       "      <td>waifu</td>\n",
       "      <td>cuz no one is watching you”</td>\n",
       "      <td>6</td>\n",
       "      <td>27</td>\n",
       "      <td>cuz no one is watching you”</td>\n",
       "    </tr>\n",
       "    <tr>\n",
       "      <th>60102</th>\n",
       "      <td>grandpiano</td>\n",
       "      <td>if it were a wig</td>\n",
       "      <td>5</td>\n",
       "      <td>16</td>\n",
       "      <td>if it were a wig</td>\n",
       "    </tr>\n",
       "    <tr>\n",
       "      <th>37086</th>\n",
       "      <td>grandpiano</td>\n",
       "      <td>my car is going to be in the shop tuesday itll...</td>\n",
       "      <td>19</td>\n",
       "      <td>86</td>\n",
       "      <td>my car is going to be in the shop tuesday itll...</td>\n",
       "    </tr>\n",
       "    <tr>\n",
       "      <th>132715</th>\n",
       "      <td>roza</td>\n",
       "      <td>coins</td>\n",
       "      <td>1</td>\n",
       "      <td>5</td>\n",
       "      <td>coins</td>\n",
       "    </tr>\n",
       "    <tr>\n",
       "      <th>109970</th>\n",
       "      <td>duffy</td>\n",
       "      <td>oh</td>\n",
       "      <td>1</td>\n",
       "      <td>2</td>\n",
       "      <td>oh</td>\n",
       "    </tr>\n",
       "    <tr>\n",
       "      <th>144380</th>\n",
       "      <td>hanges</td>\n",
       "      <td>ik...\\tashe</td>\n",
       "      <td>2</td>\n",
       "      <td>10</td>\n",
       "      <td>ik ashe</td>\n",
       "    </tr>\n",
       "    <tr>\n",
       "      <th>76383</th>\n",
       "      <td>waifu</td>\n",
       "      <td>nah you can change your nickname on here as lo...</td>\n",
       "      <td>24</td>\n",
       "      <td>111</td>\n",
       "      <td>nah you can change your nickname on here as lo...</td>\n",
       "    </tr>\n",
       "    <tr>\n",
       "      <th>135250</th>\n",
       "      <td>vicksterbigtrickster</td>\n",
       "      <td>uwu chick</td>\n",
       "      <td>2</td>\n",
       "      <td>9</td>\n",
       "      <td>uwu chick</td>\n",
       "    </tr>\n",
       "  </tbody>\n",
       "</table>\n",
       "</div>"
      ],
      "text/plain": [
       "                        nome  \\\n",
       "36714                   kate   \n",
       "118594                piecks   \n",
       "74093                  waifu   \n",
       "60102             grandpiano   \n",
       "37086             grandpiano   \n",
       "132715                  roza   \n",
       "109970                 duffy   \n",
       "144380                hanges   \n",
       "76383                  waifu   \n",
       "135250  vicksterbigtrickster   \n",
       "\n",
       "                                                    testo  word_count  \\\n",
       "36714     your warnings aren't doing anything honestly...           6   \n",
       "118594  do the support command in deletedchannel and t...          19   \n",
       "74093                         cuz no one is watching you”           6   \n",
       "60102                                    if it were a wig           5   \n",
       "37086   my car is going to be in the shop tuesday itll...          19   \n",
       "132715                                              coins           1   \n",
       "109970                                                 oh           1   \n",
       "144380                                        ik...\\tashe           2   \n",
       "76383   nah you can change your nickname on here as lo...          24   \n",
       "135250                                          uwu chick           2   \n",
       "\n",
       "        char_count                                         clean_text  \n",
       "36714           47        your warnings arent doing anything honestly  \n",
       "118594          98  do the support command in deletedchannel and t...  \n",
       "74093           27                        cuz no one is watching you”  \n",
       "60102           16                                   if it were a wig  \n",
       "37086           86  my car is going to be in the shop tuesday itll...  \n",
       "132715           5                                              coins  \n",
       "109970           2                                                 oh  \n",
       "144380          10                                            ik ashe  \n",
       "76383          111  nah you can change your nickname on here as lo...  \n",
       "135250           9                                          uwu chick  "
      ]
     },
     "execution_count": 11,
     "metadata": {},
     "output_type": "execute_result"
    }
   ],
   "source": [
    "test.sample(10)"
   ]
  },
  {
   "cell_type": "markdown",
   "id": "7b4d0610",
   "metadata": {
    "slideshow": {
     "slide_type": "subslide"
    }
   },
   "source": [
    "### Rimozione punteggiatura e caratteri speciali"
   ]
  },
  {
   "cell_type": "markdown",
   "id": "f13da5cf",
   "metadata": {
    "slideshow": {
     "slide_type": "subslide"
    }
   },
   "source": [
    "Per facilitarci ulteriormente il lavoro rimuoveremo tutta la punteggiatura e i caratteri speciali, inoltre si noti che all'interno dei testi sono presenti \"\\n\" e \"\\t\" che a noi non forniscono nessuna informazione aggiuntiva quindi verranno rimossi anche questi."
   ]
  },
  {
   "cell_type": "code",
   "execution_count": 12,
   "id": "2985714c",
   "metadata": {},
   "outputs": [],
   "source": [
    "test['clean_text'] = test['clean_text'].apply(lambda x: re.sub(r'[^\\w\\s]', ' ', x) if pd.notna(x) else x)\n",
    "test['clean_text'] = test['clean_text'].apply(lambda x: re.sub(r'[\\n\\t]', ' ', x) if pd.notna(x) else x)\n"
   ]
  },
  {
   "cell_type": "code",
   "execution_count": 13,
   "id": "037e62b0",
   "metadata": {},
   "outputs": [
    {
     "data": {
      "text/html": [
       "<div>\n",
       "<style scoped>\n",
       "    .dataframe tbody tr th:only-of-type {\n",
       "        vertical-align: middle;\n",
       "    }\n",
       "\n",
       "    .dataframe tbody tr th {\n",
       "        vertical-align: top;\n",
       "    }\n",
       "\n",
       "    .dataframe thead th {\n",
       "        text-align: right;\n",
       "    }\n",
       "</style>\n",
       "<table border=\"1\" class=\"dataframe\">\n",
       "  <thead>\n",
       "    <tr style=\"text-align: right;\">\n",
       "      <th></th>\n",
       "      <th>nome</th>\n",
       "      <th>testo</th>\n",
       "      <th>word_count</th>\n",
       "      <th>char_count</th>\n",
       "      <th>clean_text</th>\n",
       "    </tr>\n",
       "  </thead>\n",
       "  <tbody>\n",
       "    <tr>\n",
       "      <th>170689</th>\n",
       "      <td>ronin</td>\n",
       "      <td>yeh</td>\n",
       "      <td>1</td>\n",
       "      <td>3</td>\n",
       "      <td>yeh</td>\n",
       "    </tr>\n",
       "    <tr>\n",
       "      <th>164270</th>\n",
       "      <td>duffy</td>\n",
       "      <td>i want a hug</td>\n",
       "      <td>4</td>\n",
       "      <td>12</td>\n",
       "      <td>i want a hug</td>\n",
       "    </tr>\n",
       "    <tr>\n",
       "      <th>113780</th>\n",
       "      <td>piecks</td>\n",
       "      <td>ill put something else</td>\n",
       "      <td>4</td>\n",
       "      <td>22</td>\n",
       "      <td>ill put something else</td>\n",
       "    </tr>\n",
       "    <tr>\n",
       "      <th>98581</th>\n",
       "      <td>azurite</td>\n",
       "      <td>mhm</td>\n",
       "      <td>1</td>\n",
       "      <td>3</td>\n",
       "      <td>mhm</td>\n",
       "    </tr>\n",
       "    <tr>\n",
       "      <th>85312</th>\n",
       "      <td>honey</td>\n",
       "      <td>take your time sweetheart me and screen used t...</td>\n",
       "      <td>11</td>\n",
       "      <td>57</td>\n",
       "      <td>take your time sweetheart me and screen used t...</td>\n",
       "    </tr>\n",
       "    <tr>\n",
       "      <th>41719</th>\n",
       "      <td>quirky</td>\n",
       "      <td>aaa</td>\n",
       "      <td>1</td>\n",
       "      <td>3</td>\n",
       "      <td>aaa</td>\n",
       "    </tr>\n",
       "    <tr>\n",
       "      <th>146924</th>\n",
       "      <td>roza</td>\n",
       "      <td>aristotle</td>\n",
       "      <td>1</td>\n",
       "      <td>9</td>\n",
       "      <td>aristotle</td>\n",
       "    </tr>\n",
       "    <tr>\n",
       "      <th>33086</th>\n",
       "      <td>piecks</td>\n",
       "      <td>im glad</td>\n",
       "      <td>2</td>\n",
       "      <td>7</td>\n",
       "      <td>im glad</td>\n",
       "    </tr>\n",
       "    <tr>\n",
       "      <th>53174</th>\n",
       "      <td>kore</td>\n",
       "      <td>i just got these ones, i got a pink one and a ...</td>\n",
       "      <td>28</td>\n",
       "      <td>128</td>\n",
       "      <td>i just got these ones i got a pink one and a d...</td>\n",
       "    </tr>\n",
       "    <tr>\n",
       "      <th>15143</th>\n",
       "      <td>bea</td>\n",
       "      <td>again</td>\n",
       "      <td>1</td>\n",
       "      <td>5</td>\n",
       "      <td>again</td>\n",
       "    </tr>\n",
       "  </tbody>\n",
       "</table>\n",
       "</div>"
      ],
      "text/plain": [
       "           nome                                              testo  \\\n",
       "170689    ronin                                                yeh   \n",
       "164270    duffy                                       i want a hug   \n",
       "113780   piecks                             ill put something else   \n",
       "98581   azurite                                                mhm   \n",
       "85312     honey  take your time sweetheart me and screen used t...   \n",
       "41719    quirky                                                aaa   \n",
       "146924     roza                                          aristotle   \n",
       "33086    piecks                                            im glad   \n",
       "53174      kore  i just got these ones, i got a pink one and a ...   \n",
       "15143       bea                                              again   \n",
       "\n",
       "        word_count  char_count  \\\n",
       "170689           1           3   \n",
       "164270           4          12   \n",
       "113780           4          22   \n",
       "98581            1           3   \n",
       "85312           11          57   \n",
       "41719            1           3   \n",
       "146924           1           9   \n",
       "33086            2           7   \n",
       "53174           28         128   \n",
       "15143            1           5   \n",
       "\n",
       "                                               clean_text  \n",
       "170689                                                yeh  \n",
       "164270                                       i want a hug  \n",
       "113780                             ill put something else  \n",
       "98581                                                 mhm  \n",
       "85312   take your time sweetheart me and screen used t...  \n",
       "41719                                                 aaa  \n",
       "146924                                          aristotle  \n",
       "33086                                             im glad  \n",
       "53174   i just got these ones i got a pink one and a d...  \n",
       "15143                                               again  "
      ]
     },
     "execution_count": 13,
     "metadata": {},
     "output_type": "execute_result"
    }
   ],
   "source": [
    "test.sample(10)"
   ]
  },
  {
   "cell_type": "markdown",
   "id": "d442f99f",
   "metadata": {
    "slideshow": {
     "slide_type": "slide"
    }
   },
   "source": [
    "## Lemmatizzazione e stop words"
   ]
  },
  {
   "cell_type": "markdown",
   "id": "bba20d6f",
   "metadata": {
    "slideshow": {
     "slide_type": "subslide"
    }
   },
   "source": [
    "Attraverso nltk, che è una libreria di python progettata per l'elaborazione del linguaggio naturale, che mette a disposizione \"WordNetLemmatizer\" effettuare la lemmatizzazione delle nostre frasi risulta molto facile. Perché fare la lemmatizzazione? Renderà il lavoro del nostro modello più semplice dato che con un dataset di una chat di gruppo grande, potrebbe essere utile ridurre la dimensionalità del testo e migliorare la generalizzazione del modello."
   ]
  },
  {
   "cell_type": "code",
   "execution_count": 15,
   "id": "e7058d94",
   "metadata": {
    "slideshow": {
     "slide_type": "subslide"
    }
   },
   "outputs": [],
   "source": [
    "wl = WordNetLemmatizer()\n",
    "\n",
    "def get_wordnet_pos(tag):\n",
    "    if tag.startswith('J'):\n",
    "        return wordnet.ADJ\n",
    "    elif tag.startswith('V'):\n",
    "        return wordnet.VERB\n",
    "    elif tag.startswith('N'):\n",
    "        return wordnet.NOUN\n",
    "    elif tag.startswith('R'):\n",
    "        return wordnet.ADV\n",
    "    else:\n",
    "        return wordnet.NOUN\n",
    "\n",
    "def lemmatizer(string):\n",
    "    word_pos_tags = nltk.pos_tag(word_tokenize(string))\n",
    "    a = [wl.lemmatize(tag[0], get_wordnet_pos(tag[1])) for idx, tag in enumerate(word_pos_tags)]\n",
    "    return \" \".join(a)"
   ]
  },
  {
   "cell_type": "code",
   "execution_count": 16,
   "id": "2164dc35",
   "metadata": {
    "slideshow": {
     "slide_type": "subslide"
    }
   },
   "outputs": [],
   "source": [
    "test['clean_text'] = test['clean_text'].apply(lambda x: lemmatizer(x) if pd.isna(x) != True else x)"
   ]
  },
  {
   "cell_type": "code",
   "execution_count": 17,
   "id": "3151efa1",
   "metadata": {
    "slideshow": {
     "slide_type": "subslide"
    }
   },
   "outputs": [
    {
     "data": {
      "text/html": [
       "<div>\n",
       "<style scoped>\n",
       "    .dataframe tbody tr th:only-of-type {\n",
       "        vertical-align: middle;\n",
       "    }\n",
       "\n",
       "    .dataframe tbody tr th {\n",
       "        vertical-align: top;\n",
       "    }\n",
       "\n",
       "    .dataframe thead th {\n",
       "        text-align: right;\n",
       "    }\n",
       "</style>\n",
       "<table border=\"1\" class=\"dataframe\">\n",
       "  <thead>\n",
       "    <tr style=\"text-align: right;\">\n",
       "      <th></th>\n",
       "      <th>nome</th>\n",
       "      <th>testo</th>\n",
       "      <th>word_count</th>\n",
       "      <th>char_count</th>\n",
       "      <th>clean_text</th>\n",
       "    </tr>\n",
       "  </thead>\n",
       "  <tbody>\n",
       "    <tr>\n",
       "      <th>47001</th>\n",
       "      <td>mushu</td>\n",
       "      <td>all my irl friends seem to be dying their hair...</td>\n",
       "      <td>11</td>\n",
       "      <td>50</td>\n",
       "      <td>all my irl friends seem to be die their hair now</td>\n",
       "    </tr>\n",
       "    <tr>\n",
       "      <th>73246</th>\n",
       "      <td>squirm</td>\n",
       "      <td>my mom just asked me if i was possessed lmao</td>\n",
       "      <td>10</td>\n",
       "      <td>44</td>\n",
       "      <td>my mom just ask me if i be possess lmao</td>\n",
       "    </tr>\n",
       "    <tr>\n",
       "      <th>73214</th>\n",
       "      <td>name</td>\n",
       "      <td>welcome!</td>\n",
       "      <td>1</td>\n",
       "      <td>8</td>\n",
       "      <td>welcome</td>\n",
       "    </tr>\n",
       "    <tr>\n",
       "      <th>63684</th>\n",
       "      <td>hanges</td>\n",
       "      <td>um i'd buy it for you but all my money is cash...</td>\n",
       "      <td>13</td>\n",
       "      <td>56</td>\n",
       "      <td>um id buy it for you but all my money be cash ...</td>\n",
       "    </tr>\n",
       "    <tr>\n",
       "      <th>145366</th>\n",
       "      <td>piecks</td>\n",
       "      <td>sure... actually it probably was that but sure!</td>\n",
       "      <td>8</td>\n",
       "      <td>47</td>\n",
       "      <td>sure actually it probably be that but sure</td>\n",
       "    </tr>\n",
       "    <tr>\n",
       "      <th>2882</th>\n",
       "      <td>izzy</td>\n",
       "      <td>ilu lurve :two_hearts:\\tafk</td>\n",
       "      <td>4</td>\n",
       "      <td>26</td>\n",
       "      <td>ilu lurve twohearts afk</td>\n",
       "    </tr>\n",
       "    <tr>\n",
       "      <th>104949</th>\n",
       "      <td>kathryn</td>\n",
       "      <td>aapa was a thiccc boi\\tae : her rise and downf...</td>\n",
       "      <td>19</td>\n",
       "      <td>99</td>\n",
       "      <td>aapa be a thiccc boi ae her rise and downfall ...</td>\n",
       "    </tr>\n",
       "    <tr>\n",
       "      <th>158428</th>\n",
       "      <td>piecks</td>\n",
       "      <td>snoffles</td>\n",
       "      <td>1</td>\n",
       "      <td>8</td>\n",
       "      <td>snoffles</td>\n",
       "    </tr>\n",
       "    <tr>\n",
       "      <th>114421</th>\n",
       "      <td>willard</td>\n",
       "      <td>not bad but not amazing either i dont like thi...</td>\n",
       "      <td>11</td>\n",
       "      <td>59</td>\n",
       "      <td>not bad but not amazing either i dont like thi...</td>\n",
       "    </tr>\n",
       "    <tr>\n",
       "      <th>133736</th>\n",
       "      <td>roza</td>\n",
       "      <td>oh yea i guess sometimes they can be nice but ...</td>\n",
       "      <td>15</td>\n",
       "      <td>67</td>\n",
       "      <td>oh yea i guess sometimes they can be nice but ...</td>\n",
       "    </tr>\n",
       "  </tbody>\n",
       "</table>\n",
       "</div>"
      ],
      "text/plain": [
       "           nome                                              testo  \\\n",
       "47001     mushu  all my irl friends seem to be dying their hair...   \n",
       "73246    squirm       my mom just asked me if i was possessed lmao   \n",
       "73214      name                                           welcome!   \n",
       "63684    hanges  um i'd buy it for you but all my money is cash...   \n",
       "145366   piecks    sure... actually it probably was that but sure!   \n",
       "2882       izzy                        ilu lurve :two_hearts:\\tafk   \n",
       "104949  kathryn  aapa was a thiccc boi\\tae : her rise and downf...   \n",
       "158428   piecks                                           snoffles   \n",
       "114421  willard  not bad but not amazing either i dont like thi...   \n",
       "133736     roza  oh yea i guess sometimes they can be nice but ...   \n",
       "\n",
       "        word_count  char_count  \\\n",
       "47001           11          50   \n",
       "73246           10          44   \n",
       "73214            1           8   \n",
       "63684           13          56   \n",
       "145366           8          47   \n",
       "2882             4          26   \n",
       "104949          19          99   \n",
       "158428           1           8   \n",
       "114421          11          59   \n",
       "133736          15          67   \n",
       "\n",
       "                                               clean_text  \n",
       "47001    all my irl friends seem to be die their hair now  \n",
       "73246             my mom just ask me if i be possess lmao  \n",
       "73214                                             welcome  \n",
       "63684   um id buy it for you but all my money be cash ...  \n",
       "145366         sure actually it probably be that but sure  \n",
       "2882                              ilu lurve twohearts afk  \n",
       "104949  aapa be a thiccc boi ae her rise and downfall ...  \n",
       "158428                                           snoffles  \n",
       "114421  not bad but not amazing either i dont like thi...  \n",
       "133736  oh yea i guess sometimes they can be nice but ...  "
      ]
     },
     "execution_count": 17,
     "metadata": {},
     "output_type": "execute_result"
    }
   ],
   "source": [
    "test.sample(10)"
   ]
  },
  {
   "cell_type": "markdown",
   "id": "788d23c4",
   "metadata": {
    "slideshow": {
     "slide_type": "subslide"
    }
   },
   "source": [
    "Sempre grazie a nltk è possibile rimuovere tutte le parole che non forniscono alcuna informazione, le cosiddette \"stop words\""
   ]
  },
  {
   "cell_type": "code",
   "execution_count": 18,
   "id": "0d5ea844",
   "metadata": {
    "slideshow": {
     "slide_type": "subslide"
    }
   },
   "outputs": [],
   "source": [
    "def stopword(string):\n",
    "    a = [i for i in string.split() if i not in stopwords.words('english')]\n",
    "    return ' '.join(a)"
   ]
  },
  {
   "cell_type": "code",
   "execution_count": 19,
   "id": "f48cd248",
   "metadata": {
    "slideshow": {
     "slide_type": "subslide"
    }
   },
   "outputs": [],
   "source": [
    "test['clean_text'] = test['clean_text'].apply(lambda x: stopword(x) if pd.isna(x) != True else x)"
   ]
  },
  {
   "cell_type": "code",
   "execution_count": 20,
   "id": "5c5564f7",
   "metadata": {
    "slideshow": {
     "slide_type": "subslide"
    }
   },
   "outputs": [
    {
     "data": {
      "text/html": [
       "<div>\n",
       "<style scoped>\n",
       "    .dataframe tbody tr th:only-of-type {\n",
       "        vertical-align: middle;\n",
       "    }\n",
       "\n",
       "    .dataframe tbody tr th {\n",
       "        vertical-align: top;\n",
       "    }\n",
       "\n",
       "    .dataframe thead th {\n",
       "        text-align: right;\n",
       "    }\n",
       "</style>\n",
       "<table border=\"1\" class=\"dataframe\">\n",
       "  <thead>\n",
       "    <tr style=\"text-align: right;\">\n",
       "      <th></th>\n",
       "      <th>nome</th>\n",
       "      <th>testo</th>\n",
       "      <th>word_count</th>\n",
       "      <th>char_count</th>\n",
       "      <th>clean_text</th>\n",
       "    </tr>\n",
       "  </thead>\n",
       "  <tbody>\n",
       "    <tr>\n",
       "      <th>104171</th>\n",
       "      <td>duffy</td>\n",
       "      <td>voikce too duirhnk to s twxt text opkease plea...</td>\n",
       "      <td>10</td>\n",
       "      <td>53</td>\n",
       "      <td>voikce duirhnk twxt text opkease please ashe</td>\n",
       "    </tr>\n",
       "    <tr>\n",
       "      <th>44029</th>\n",
       "      <td>happyomg</td>\n",
       "      <td>ow ow ow ouououo ohohoh ... :mwno:</td>\n",
       "      <td>7</td>\n",
       "      <td>34</td>\n",
       "      <td>ow ow ow ouououo ohohoh mwno</td>\n",
       "    </tr>\n",
       "    <tr>\n",
       "      <th>34865</th>\n",
       "      <td>grandpiano</td>\n",
       "      <td>awww</td>\n",
       "      <td>1</td>\n",
       "      <td>4</td>\n",
       "      <td>awww</td>\n",
       "    </tr>\n",
       "    <tr>\n",
       "      <th>49727</th>\n",
       "      <td>zag</td>\n",
       "      <td>don't have anything nice to do...:/\\tgrimy</td>\n",
       "      <td>7</td>\n",
       "      <td>41</td>\n",
       "      <td>dont anything nice grimy</td>\n",
       "    </tr>\n",
       "    <tr>\n",
       "      <th>139397</th>\n",
       "      <td>hanges</td>\n",
       "      <td>:eyes:</td>\n",
       "      <td>1</td>\n",
       "      <td>6</td>\n",
       "      <td>eye</td>\n",
       "    </tr>\n",
       "    <tr>\n",
       "      <th>66489</th>\n",
       "      <td>dem</td>\n",
       "      <td>what is happening</td>\n",
       "      <td>3</td>\n",
       "      <td>17</td>\n",
       "      <td>happen</td>\n",
       "    </tr>\n",
       "    <tr>\n",
       "      <th>903</th>\n",
       "      <td>grandpiano</td>\n",
       "      <td>gj</td>\n",
       "      <td>1</td>\n",
       "      <td>2</td>\n",
       "      <td>gj</td>\n",
       "    </tr>\n",
       "    <tr>\n",
       "      <th>109565</th>\n",
       "      <td>vicksterbigtrickster</td>\n",
       "      <td>bo @grandpiano hi notice me goat</td>\n",
       "      <td>6</td>\n",
       "      <td>32</td>\n",
       "      <td>bo hi notice goat</td>\n",
       "    </tr>\n",
       "    <tr>\n",
       "      <th>149829</th>\n",
       "      <td>racenol</td>\n",
       "      <td>o</td>\n",
       "      <td>1</td>\n",
       "      <td>1</td>\n",
       "      <td></td>\n",
       "    </tr>\n",
       "    <tr>\n",
       "      <th>170712</th>\n",
       "      <td>everyone</td>\n",
       "      <td>sjajwnsnakaksknwwnjsajjaw</td>\n",
       "      <td>1</td>\n",
       "      <td>25</td>\n",
       "      <td>sjajwnsnakaksknwwnjsajjaw</td>\n",
       "    </tr>\n",
       "  </tbody>\n",
       "</table>\n",
       "</div>"
      ],
      "text/plain": [
       "                        nome  \\\n",
       "104171                 duffy   \n",
       "44029               happyomg   \n",
       "34865             grandpiano   \n",
       "49727                    zag   \n",
       "139397                hanges   \n",
       "66489                    dem   \n",
       "903               grandpiano   \n",
       "109565  vicksterbigtrickster   \n",
       "149829               racenol   \n",
       "170712              everyone   \n",
       "\n",
       "                                                    testo  word_count  \\\n",
       "104171  voikce too duirhnk to s twxt text opkease plea...          10   \n",
       "44029                  ow ow ow ouououo ohohoh ... :mwno:           7   \n",
       "34865                                                awww           1   \n",
       "49727          don't have anything nice to do...:/\\tgrimy           7   \n",
       "139397                                             :eyes:           1   \n",
       "66489                                   what is happening           3   \n",
       "903                                                    gj           1   \n",
       "109565                   bo @grandpiano hi notice me goat           6   \n",
       "149829                                                  o           1   \n",
       "170712                          sjajwnsnakaksknwwnjsajjaw           1   \n",
       "\n",
       "        char_count                                    clean_text  \n",
       "104171          53  voikce duirhnk twxt text opkease please ashe  \n",
       "44029           34                  ow ow ow ouououo ohohoh mwno  \n",
       "34865            4                                          awww  \n",
       "49727           41                      dont anything nice grimy  \n",
       "139397           6                                           eye  \n",
       "66489           17                                        happen  \n",
       "903              2                                            gj  \n",
       "109565          32                             bo hi notice goat  \n",
       "149829           1                                                \n",
       "170712          25                     sjajwnsnakaksknwwnjsajjaw  "
      ]
     },
     "execution_count": 20,
     "metadata": {},
     "output_type": "execute_result"
    }
   ],
   "source": [
    "test.sample(10)"
   ]
  },
  {
   "cell_type": "markdown",
   "id": "b90c09ac",
   "metadata": {
    "slideshow": {
     "slide_type": "slide"
    }
   },
   "source": [
    "## Sentiment analysis"
   ]
  },
  {
   "cell_type": "markdown",
   "id": "6b4df752",
   "metadata": {
    "slideshow": {
     "slide_type": "subslide"
    }
   },
   "source": [
    "nltk permette attraverso \"Vader\", ovvero un algoritmo di analisi del sentiment, di effettuare appunto una sentiment analysis.\n",
    "Ovviamente sarà un po' lento in quanto il dataset che stiamo utilizzando ha più di 17k righe."
   ]
  },
  {
   "cell_type": "code",
   "execution_count": 21,
   "id": "a2a86692",
   "metadata": {
    "scrolled": false,
    "slideshow": {
     "slide_type": "subslide"
    }
   },
   "outputs": [],
   "source": [
    "from nltk.sentiment import SentimentIntensityAnalyzer\n",
    "\n",
    "def analyze_sentiment(text):\n",
    "    if isinstance(text,str):\n",
    "        sia = SentimentIntensityAnalyzer()\n",
    "        sentiment_score = sia.polarity_scores(text)['compound']\n",
    "        if sentiment_score >= 0.05:\n",
    "            return 'positivo'\n",
    "        elif sentiment_score <= -0.05:\n",
    "            return 'negativo'\n",
    "        else:\n",
    "            return 'neutro'\n",
    "    else:\n",
    "        return \"neutro\"\n",
    "    \n",
    "test['sentiment'] = test['clean_text'].apply(analyze_sentiment)"
   ]
  },
  {
   "cell_type": "code",
   "execution_count": 22,
   "id": "89ad41f0",
   "metadata": {
    "slideshow": {
     "slide_type": "subslide"
    }
   },
   "outputs": [
    {
     "name": "stdout",
     "output_type": "stream",
     "text": [
      "               nome                     clean_text sentiment\n",
      "0             fours                          hello    neutro\n",
      "1       kinesthetic                         firsat    neutro\n",
      "2             fours                      ha lmaooo  positivo\n",
      "3       kinesthetic                                   neutro\n",
      "4             fours                             gg  positivo\n",
      "...             ...                            ...       ...\n",
      "177569        duffy          lucifer good show uwu  positivo\n",
      "177570      pinkbee  google assistant weird oh boy  negativo\n",
      "177571        duffy                         oh boi    neutro\n",
      "177572      pinkbee                      jf e fuck  negativo\n",
      "177573       hanges                                   neutro\n",
      "\n",
      "[177574 rows x 3 columns]\n"
     ]
    }
   ],
   "source": [
    "print(test[['nome','clean_text','sentiment']])"
   ]
  },
  {
   "cell_type": "code",
   "execution_count": 23,
   "id": "4e80836a",
   "metadata": {
    "slideshow": {
     "slide_type": "subslide"
    }
   },
   "outputs": [
    {
     "name": "stdout",
     "output_type": "stream",
     "text": [
      "nome\n",
      "0             -0.100000\n",
      "03             1.000000\n",
      "0708           0.341463\n",
      "1              0.666667\n",
      "1800           0.000000\n",
      "                 ...   \n",
      "zenirit       -0.250000\n",
      "zirushaddai   -0.500000\n",
      "zoeydotmp4     0.184524\n",
      "zoinks         0.123457\n",
      "zrall          0.061135\n",
      "Name: sentiment, Length: 1431, dtype: float64\n"
     ]
    }
   ],
   "source": [
    "import matplotlib.pyplot as plt\n",
    "# Rimuovi righe con valori mancanti nella colonna 'sentiment'\n",
    "test = test.dropna(subset=['sentiment'])\n",
    "\n",
    "# Converti la colonna 'sentiment' in valori numerici (ad esempio, neutro=0, positivo=1, negativo=-1)\n",
    "test['sentiment'] = test['sentiment'].map({'neutro': 0, 'positivo': 1, 'negativo': -1})\n",
    "\n",
    "# Raggruppa per 'nome' e calcola il sentiment medio per ogni utente\n",
    "sentiment_medio_per_utente = test.groupby('nome')['sentiment'].mean()\n",
    "\n",
    "# Visualizza i risultati\n",
    "print(sentiment_medio_per_utente)"
   ]
  },
  {
   "cell_type": "code",
   "execution_count": 24,
   "id": "9a7f75ec",
   "metadata": {
    "slideshow": {
     "slide_type": "slide"
    }
   },
   "outputs": [
    {
     "data": {
      "image/png": "[encoded data removed]",
      "text/plain": [
       "<Figure size 1000x600 with 1 Axes>"
      ]
     },
     "metadata": {},
     "output_type": "display_data"
    }
   ],
   "source": [
    "# Seleziona solo i primi 70 utenti\n",
    "top_70_utenti = sentiment_medio_per_utente.head(70)\n",
    "\n",
    "# Plot\n",
    "plt.figure(figsize=(10, 6))\n",
    "top_70_utenti.plot(kind='bar', color='skyblue')\n",
    "plt.title('Media Sentiment per Utente (Top 70)')\n",
    "plt.xlabel('Utente')\n",
    "plt.ylabel('Sentiment Medio')\n",
    "plt.show()"
   ]
  },
  {
   "cell_type": "code",
   "execution_count": 30,
   "id": "a49331c9",
   "metadata": {
    "slideshow": {
     "slide_type": "slide"
    }
   },
   "outputs": [],
   "source": [
    "import nltk\n",
    "from nltk.corpus import stopwords\n",
    "\n",
    "def summarize_chat(df):\n",
    "    sentences = []\n",
    "    for i in range(len(df)):\n",
    "        # Aggiungi un controllo per verificare se l'indice è presente nel DataFrame\n",
    "        if i in df.index:\n",
    "            sentences.append((df.loc[i, \"nome\"], df.loc[i, \"clean_text\"]))\n",
    "\n",
    "    stop_words = set(stopwords.words(\"english\"))\n",
    "\n",
    "    tokens = []\n",
    "    for sentence in sentences:\n",
    "        tokens.extend([token for token in sentence[1].split() if token not in stop_words])\n",
    "\n",
    "    word_counts = {}\n",
    "    for token in tokens:\n",
    "        if token not in word_counts:\n",
    "            word_counts[token] = 0\n",
    "        word_counts[token] += 1\n",
    "\n",
    "    most_common = sorted(word_counts.items(), key=lambda x: x[1], reverse=True)[:20]\n",
    "\n",
    "    summary = \"\"\n",
    "    for token, count in most_common:\n",
    "        summary += f\"{token}: {count}\\n\"\n",
    "\n",
    "    topics = set()\n",
    "    for token, count in most_common:\n",
    "        tokens = token.split(\"_\")\n",
    "        for t in tokens:\n",
    "            topics.add(t)\n",
    "\n",
    "    return list(topics)\n",
    "\n"
   ]
  },
  {
   "cell_type": "code",
   "execution_count": 31,
   "id": "47dc34d3",
   "metadata": {
    "slideshow": {
     "slide_type": "subslide"
    }
   },
   "outputs": [
    {
     "name": "stdout",
     "output_type": "stream",
     "text": [
      "['go', 'ae', 'one', 'want', 'know', 'like', 'u', 'oh', 'thats', 'good', 'ashe', 'get', 'yeah', 'im', 'na', 'dont', 'hi', 'welcome', 'yes', 'ok']\n"
     ]
    }
   ],
   "source": [
    "\n",
    "topics = summarize_chat(test)\n",
    "print(topics)"
   ]
  },
  {
   "cell_type": "code",
   "execution_count": 32,
   "id": "a296139f",
   "metadata": {
    "slideshow": {
     "slide_type": "subslide"
    }
   },
   "outputs": [
    {
     "data": {
      "image/png": "[encoded data removed]",
      "text/plain": [
       "<Figure size 640x480 with 1 Axes>"
      ]
     },
     "metadata": {},
     "output_type": "display_data"
    }
   ],
   "source": [
    "from wordcloud import WordCloud\n",
    "\n",
    "\n",
    "wc = WordCloud(width=1920, height=1024, background_color=\"white\")\n",
    "wc.generate(\" \".join(topics))\n",
    "plt.imshow(wc, interpolation=\"bilinear\")\n",
    "plt.axis(\"off\")\n",
    "plt.title(\"Nuvola di parole dei topic della chat\")\n",
    "plt.show()\n"
   ]
  },
  {
   "cell_type": "code",
   "execution_count": 39,
   "id": "ddd23b2b",
   "metadata": {
    "slideshow": {
     "slide_type": "subslide"
    }
   },
   "outputs": [
    {
     "ename": "TypeError",
     "evalue": "argument of type 'WordListCorpusReader' is not iterable",
     "output_type": "error",
     "traceback": [
      "\u001b[0;31m---------------------------------------------------------------------------\u001b[0m",
      "\u001b[0;31mTypeError\u001b[0m                                 Traceback (most recent call last)",
      "Cell \u001b[0;32mIn[39], line 13\u001b[0m\n\u001b[1;32m     11\u001b[0m \u001b[38;5;28;01mfor\u001b[39;00m text \u001b[38;5;129;01min\u001b[39;00m sentence_list:\n\u001b[1;32m     12\u001b[0m     \u001b[38;5;28;01mfor\u001b[39;00m word \u001b[38;5;129;01min\u001b[39;00m nltk\u001b[38;5;241m.\u001b[39mword_tokenize(text):\n\u001b[0;32m---> 13\u001b[0m         \u001b[38;5;28;01mif\u001b[39;00m \u001b[43mword\u001b[49m\u001b[38;5;241;43m.\u001b[39;49m\u001b[43mlower\u001b[49m\u001b[43m(\u001b[49m\u001b[43m)\u001b[49m\u001b[43m \u001b[49m\u001b[38;5;129;43;01mnot\u001b[39;49;00m\u001b[43m \u001b[49m\u001b[38;5;129;43;01min\u001b[39;49;00m\u001b[43m \u001b[49m\u001b[43mstopwords\u001b[49m:\n\u001b[1;32m     14\u001b[0m             \u001b[38;5;28;01mif\u001b[39;00m word \u001b[38;5;129;01mnot\u001b[39;00m \u001b[38;5;129;01min\u001b[39;00m word_frequencies:\n\u001b[1;32m     15\u001b[0m                 word_frequencies[word] \u001b[38;5;241m=\u001b[39m \u001b[38;5;241m1\u001b[39m\n",
      "\u001b[0;31mTypeError\u001b[0m: argument of type 'WordListCorpusReader' is not iterable"
     ]
    }
   ],
   "source": [
    "# Rimuove tutti i NaN dalla colonna clean_text\n",
    "test = test.dropna(subset=['clean_text'])\n",
    "\n",
    "# Ottieni le prime 100 frasi dalla colonna 'clean_text'\n",
    "first_100_sentences = test['clean_text'].head(100).tolist()\n",
    "\n",
    "# Lista di frasi da valutare\n",
    "sentence_list = first_100_sentences\n",
    "\n",
    "word_frequencies = {}\n",
    "for text in sentence_list:\n",
    "    for word in nltk.word_tokenize(text):\n",
    "        if word.lower() not in stopwords:\n",
    "            if word not in word_frequencies:\n",
    "                word_frequencies[word] = 1\n",
    "            else:\n",
    "                word_frequencies[word] += 1\n"
   ]
  },
  {
   "cell_type": "code",
   "execution_count": null,
   "id": "c6823ce5",
   "metadata": {
    "slideshow": {
     "slide_type": "subslide"
    }
   },
   "outputs": [],
   "source": [
    "maximum_frequency = max(word_frequencies.values())\n",
    "\n",
    "for word in word_frequencies:\n",
    "    word_frequencies[word] = word_frequencies[word] / maximum_frequency\n",
    "\n",
    "sentence_scores = {}\n",
    "for sentence in sentence_list:\n",
    "    for word in nltk.word_tokenize(sentence.lower()):\n",
    "        if word in word_frequencies:\n",
    "            if len(sentence.split(' ')) < 30:\n",
    "                if sentence not in sentence_scores:\n",
    "                    sentence_scores[sentence] = word_frequencies[word]\n",
    "                else:\n",
    "                    sentence_scores[sentence] += word_frequencies[word]\n"
   ]
  },
  {
   "cell_type": "code",
   "execution_count": 21,
   "id": "0217e552",
   "metadata": {
    "slideshow": {
     "slide_type": "subslide"
    }
   },
   "outputs": [
    {
     "name": "stdout",
     "output_type": "stream",
     "text": [
      "thing cant even lie irl people invade privacy often theres point least chance try good person cant get help whats happen usually never vent feel like right ok like dont see point everything bag chemical everything depend brain literally function molecule interact purpose reproduction obviously go destroy everything path question really pointless like like idea would healthy beneficial vent give people place go talk also relieve stress bond different way well people back get know dont know area mind youre ready suggest go back safe website really bad bpd depression along pileup shit yeah think like people request channel make long include least 3 people 12 mod watch case also hope give like cafe people place go instead post suicide everything else cafe feel bad lie basically everybody tell im alright fine im psychotic melt silently except cant afford let everybody know\n"
     ]
    }
   ],
   "source": [
    "import heapq\n",
    "summary_sentences = heapq.nlargest(7,sentence_scores, key=sentence_scores.get)\n",
    "\n",
    "summary = ' '.join(summary_sentences)\n",
    "print(summary)"
   ]
  },
  {
   "cell_type": "code",
   "execution_count": 49,
   "id": "8f71f490",
   "metadata": {},
   "outputs": [
    {
     "name": "stdout",
     "output_type": "stream",
     "text": [
      "nome\n",
      "testo\n",
      "word_count\n",
      "char_count\n",
      "clean_text\n",
      "sentiment\n"
     ]
    }
   ],
   "source": [
    "for x in test:\n",
    "    print(x)"
   ]
  },
  {
   "cell_type": "code",
   "execution_count": 55,
   "id": "f71834a9",
   "metadata": {},
   "outputs": [
    {
     "name": "stdout",
     "output_type": "stream",
     "text": [
      "fours\n"
     ]
    }
   ],
   "source": [
    "for index, row in test.iterrows():\n",
    "    if row['nome'] == \"kinesthetic\":\n",
    "        break\n",
    "    else: print(row['nome'])"
   ]
  },
  {
   "cell_type": "code",
   "execution_count": null,
   "id": "bba8505d",
   "metadata": {},
   "outputs": [],
   "source": []
  }
 ],
 "metadata": {
  "celltoolbar": "Slideshow",
  "kernelspec": {
   "display_name": "Python 3 (ipykernel)",
   "language": "python",
   "name": "python3"
  },
  "language_info": {
   "codemirror_mode": {
    "name": "ipython",
    "version": 3
   },
   "file_extension": ".py",
   "mimetype": "text/x-python",
   "name": "python",
   "nbconvert_exporter": "python",
   "pygments_lexer": "ipython3",
   "version": "3.11.2"
  }
 },
 "nbformat": 4,
 "nbformat_minor": 5
}
